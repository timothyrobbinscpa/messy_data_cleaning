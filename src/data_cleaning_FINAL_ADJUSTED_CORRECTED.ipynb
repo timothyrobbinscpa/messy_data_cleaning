{
 "cells": [
  {
   "cell_type": "markdown",
   "id": "10f99f97-1d14-4269-af1b-b2d4b9b638f2",
   "metadata": {},
   "source": [
    "# FIFA 21 Raw Dataset for Cleaning and Exploring\n",
    "\n",
    "Source: [Kaggle Dataset](https://www.kaggle.com/datasets/yagunnersya/fifa-21-messy-raw-dataset-for-cleaning-exploring/data?select=fifa21_raw_data.csv)\n",
    "\n",
    "**Context:**  \n",
    "Kaggle is known for providing clean datasets ready for analysis and model building. This dataset, however, is messy and raw, scraped from sofifa.com. It presents an excellent opportunity to learn about data cleaning.\n",
    "\n",
    "**Content:**  \n",
    "Web scraping often results in unclean data due to varying HTML structures. This dataset contains player statistics from EA Sports' FIFA 21 game, which we will clean and explore.\n",
    "\n",
    "**Acknowledgements:**  \n",
    "Credit to sofifa.com for providing this data.\n",
    "\n"
   ]
  },
  {
   "cell_type": "markdown",
   "id": "7b49f495-ede0-46b3-9b99-29217443af24",
   "metadata": {
    "tags": []
   },
   "source": [
    "# Importing Libraries and Reading Data"
   ]
  },
  {
   "cell_type": "code",
   "execution_count": 3,
   "id": "80b22533-7abc-402d-9a2d-71f6abe51a99",
   "metadata": {},
   "outputs": [],
   "source": [
    "# Import libraries\n",
    "import numpy as np\n",
    "import pandas as pd\n",
    "import matplotlib.pyplot as plt\n",
    "import seaborn as sns\n",
    "import re\n",
    "\n",
    "# Setting pandas options to display all rows and columns in the dataframe\n",
    "pd.set_option('display.max_rows', None)  # Display all rows\n",
    "pd.set_option('display.max_columns', None)  # Display all columns\n",
    "\n",
    "# Setting the plot style of matplotlib to 'ggplot' for better aesthetics\n",
    "plt.style.use('ggplot')\n"
   ]
  },
  {
   "cell_type": "code",
   "execution_count": 4,
   "id": "3a6fabc2-9865-418c-b2e5-5ffb0bdad23b",
   "metadata": {
    "tags": []
   },
   "outputs": [],
   "source": [
    "# Load the rattacking_work_rate FIFA 21 dataset from a CSV file\n",
    "# The low_memory=False parameter is used to ensure that all data types are read correctly\n",
    "df = pd.read_csv('../data/fifa21 raw data v2.csv', low_memory=False)\n",
    "\n"
   ]
  },
  {
   "cell_type": "markdown",
   "id": "9357e95f",
   "metadata": {
    "tags": []
   },
   "source": [
    "### 7.0 Define a Renaming Strategy: \n",
    "\n",
    "Ensure use of snake-case and update some descriptions that are not easily understandable."
   ]
  },
  {
   "cell_type": "code",
   "execution_count": 6,
   "id": "39d0c63e",
   "metadata": {
    "tags": []
   },
   "outputs": [
    {
     "data": {
      "text/html": [
       "<div>\n",
       "<style scoped>\n",
       "    .dataframe tbody tr th:only-of-type {\n",
       "        vertical-align: middle;\n",
       "    }\n",
       "\n",
       "    .dataframe tbody tr th {\n",
       "        vertical-align: top;\n",
       "    }\n",
       "\n",
       "    .dataframe thead th {\n",
       "        text-align: right;\n",
       "    }\n",
       "</style>\n",
       "<table border=\"1\" class=\"dataframe\">\n",
       "  <thead>\n",
       "    <tr style=\"text-align: right;\">\n",
       "      <th></th>\n",
       "      <th>ID</th>\n",
       "      <th>Name</th>\n",
       "      <th>LongName</th>\n",
       "      <th>photoUrl</th>\n",
       "      <th>playerUrl</th>\n",
       "      <th>Nationality</th>\n",
       "      <th>Age</th>\n",
       "      <th>↓OVA</th>\n",
       "      <th>POT</th>\n",
       "      <th>Club</th>\n",
       "      <th>Contract</th>\n",
       "      <th>Positions</th>\n",
       "      <th>Height</th>\n",
       "      <th>Weight</th>\n",
       "      <th>Preferred Foot</th>\n",
       "      <th>BOV</th>\n",
       "      <th>Best Position</th>\n",
       "      <th>Joined</th>\n",
       "      <th>Loan Date End</th>\n",
       "      <th>Value</th>\n",
       "      <th>Wage</th>\n",
       "      <th>Release Clause</th>\n",
       "      <th>Attacking</th>\n",
       "      <th>Crossing</th>\n",
       "      <th>Finishing</th>\n",
       "      <th>Heading Accuracy</th>\n",
       "      <th>Short Passing</th>\n",
       "      <th>Volleys</th>\n",
       "      <th>Skill</th>\n",
       "      <th>Dribbling</th>\n",
       "      <th>Curve</th>\n",
       "      <th>FK Accuracy</th>\n",
       "      <th>Long Passing</th>\n",
       "      <th>Ball Control</th>\n",
       "      <th>Movement</th>\n",
       "      <th>Acceleration</th>\n",
       "      <th>Sprint Speed</th>\n",
       "      <th>Agility</th>\n",
       "      <th>Reactions</th>\n",
       "      <th>Balance</th>\n",
       "      <th>Power</th>\n",
       "      <th>Shot Power</th>\n",
       "      <th>Jumping</th>\n",
       "      <th>Stamina</th>\n",
       "      <th>Strength</th>\n",
       "      <th>Long Shots</th>\n",
       "      <th>Mentality</th>\n",
       "      <th>Aggression</th>\n",
       "      <th>Interceptions</th>\n",
       "      <th>Positioning</th>\n",
       "      <th>Vision</th>\n",
       "      <th>Penalties</th>\n",
       "      <th>Composure</th>\n",
       "      <th>Defending</th>\n",
       "      <th>Marking</th>\n",
       "      <th>Standing Tackle</th>\n",
       "      <th>Sliding Tackle</th>\n",
       "      <th>Goalkeeping</th>\n",
       "      <th>GK Diving</th>\n",
       "      <th>GK Handling</th>\n",
       "      <th>GK Kicking</th>\n",
       "      <th>GK Positioning</th>\n",
       "      <th>GK Reflexes</th>\n",
       "      <th>Total Stats</th>\n",
       "      <th>Base Stats</th>\n",
       "      <th>W/F</th>\n",
       "      <th>SM</th>\n",
       "      <th>A/W</th>\n",
       "      <th>D/W</th>\n",
       "      <th>IR</th>\n",
       "      <th>PAC</th>\n",
       "      <th>SHO</th>\n",
       "      <th>PAS</th>\n",
       "      <th>DRI</th>\n",
       "      <th>DEF</th>\n",
       "      <th>PHY</th>\n",
       "      <th>Hits</th>\n",
       "    </tr>\n",
       "  </thead>\n",
       "  <tbody>\n",
       "    <tr>\n",
       "      <th>0</th>\n",
       "      <td>158023</td>\n",
       "      <td>L. Messi</td>\n",
       "      <td>Lionel Messi</td>\n",
       "      <td>https://cdn.sofifa.com/players/158/023/21_60.png</td>\n",
       "      <td>http://sofifa.com/player/158023/lionel-messi/2...</td>\n",
       "      <td>Argentina</td>\n",
       "      <td>33</td>\n",
       "      <td>93</td>\n",
       "      <td>93</td>\n",
       "      <td>\\n\\n\\n\\nFC Barcelona</td>\n",
       "      <td>2004 ~ 2021</td>\n",
       "      <td>RW, ST, CF</td>\n",
       "      <td>170cm</td>\n",
       "      <td>72kg</td>\n",
       "      <td>Left</td>\n",
       "      <td>93</td>\n",
       "      <td>RW</td>\n",
       "      <td>Jul 1, 2004</td>\n",
       "      <td>NaN</td>\n",
       "      <td>€103.5M</td>\n",
       "      <td>€560K</td>\n",
       "      <td>€138.4M</td>\n",
       "      <td>429</td>\n",
       "      <td>85</td>\n",
       "      <td>95</td>\n",
       "      <td>70</td>\n",
       "      <td>91</td>\n",
       "      <td>88</td>\n",
       "      <td>470</td>\n",
       "      <td>96</td>\n",
       "      <td>93</td>\n",
       "      <td>94</td>\n",
       "      <td>91</td>\n",
       "      <td>96</td>\n",
       "      <td>451</td>\n",
       "      <td>91</td>\n",
       "      <td>80</td>\n",
       "      <td>91</td>\n",
       "      <td>94</td>\n",
       "      <td>95</td>\n",
       "      <td>389</td>\n",
       "      <td>86</td>\n",
       "      <td>68</td>\n",
       "      <td>72</td>\n",
       "      <td>69</td>\n",
       "      <td>94</td>\n",
       "      <td>347</td>\n",
       "      <td>44</td>\n",
       "      <td>40</td>\n",
       "      <td>93</td>\n",
       "      <td>95</td>\n",
       "      <td>75</td>\n",
       "      <td>96</td>\n",
       "      <td>91</td>\n",
       "      <td>32</td>\n",
       "      <td>35</td>\n",
       "      <td>24</td>\n",
       "      <td>54</td>\n",
       "      <td>6</td>\n",
       "      <td>11</td>\n",
       "      <td>15</td>\n",
       "      <td>14</td>\n",
       "      <td>8</td>\n",
       "      <td>2231</td>\n",
       "      <td>466</td>\n",
       "      <td>4 ★</td>\n",
       "      <td>4★</td>\n",
       "      <td>Medium</td>\n",
       "      <td>Low</td>\n",
       "      <td>5 ★</td>\n",
       "      <td>85</td>\n",
       "      <td>92</td>\n",
       "      <td>91</td>\n",
       "      <td>95</td>\n",
       "      <td>38</td>\n",
       "      <td>65</td>\n",
       "      <td>771</td>\n",
       "    </tr>\n",
       "    <tr>\n",
       "      <th>1</th>\n",
       "      <td>20801</td>\n",
       "      <td>Cristiano Ronaldo</td>\n",
       "      <td>C. Ronaldo dos Santos Aveiro</td>\n",
       "      <td>https://cdn.sofifa.com/players/020/801/21_60.png</td>\n",
       "      <td>http://sofifa.com/player/20801/c-ronaldo-dos-s...</td>\n",
       "      <td>Portugal</td>\n",
       "      <td>35</td>\n",
       "      <td>92</td>\n",
       "      <td>92</td>\n",
       "      <td>\\n\\n\\n\\nJuventus</td>\n",
       "      <td>2018 ~ 2022</td>\n",
       "      <td>ST, LW</td>\n",
       "      <td>187cm</td>\n",
       "      <td>83kg</td>\n",
       "      <td>Right</td>\n",
       "      <td>92</td>\n",
       "      <td>ST</td>\n",
       "      <td>Jul 10, 2018</td>\n",
       "      <td>NaN</td>\n",
       "      <td>€63M</td>\n",
       "      <td>€220K</td>\n",
       "      <td>€75.9M</td>\n",
       "      <td>437</td>\n",
       "      <td>84</td>\n",
       "      <td>95</td>\n",
       "      <td>90</td>\n",
       "      <td>82</td>\n",
       "      <td>86</td>\n",
       "      <td>414</td>\n",
       "      <td>88</td>\n",
       "      <td>81</td>\n",
       "      <td>76</td>\n",
       "      <td>77</td>\n",
       "      <td>92</td>\n",
       "      <td>431</td>\n",
       "      <td>87</td>\n",
       "      <td>91</td>\n",
       "      <td>87</td>\n",
       "      <td>95</td>\n",
       "      <td>71</td>\n",
       "      <td>444</td>\n",
       "      <td>94</td>\n",
       "      <td>95</td>\n",
       "      <td>84</td>\n",
       "      <td>78</td>\n",
       "      <td>93</td>\n",
       "      <td>353</td>\n",
       "      <td>63</td>\n",
       "      <td>29</td>\n",
       "      <td>95</td>\n",
       "      <td>82</td>\n",
       "      <td>84</td>\n",
       "      <td>95</td>\n",
       "      <td>84</td>\n",
       "      <td>28</td>\n",
       "      <td>32</td>\n",
       "      <td>24</td>\n",
       "      <td>58</td>\n",
       "      <td>7</td>\n",
       "      <td>11</td>\n",
       "      <td>15</td>\n",
       "      <td>14</td>\n",
       "      <td>11</td>\n",
       "      <td>2221</td>\n",
       "      <td>464</td>\n",
       "      <td>4 ★</td>\n",
       "      <td>5★</td>\n",
       "      <td>High</td>\n",
       "      <td>Low</td>\n",
       "      <td>5 ★</td>\n",
       "      <td>89</td>\n",
       "      <td>93</td>\n",
       "      <td>81</td>\n",
       "      <td>89</td>\n",
       "      <td>35</td>\n",
       "      <td>77</td>\n",
       "      <td>562</td>\n",
       "    </tr>\n",
       "    <tr>\n",
       "      <th>2</th>\n",
       "      <td>200389</td>\n",
       "      <td>J. Oblak</td>\n",
       "      <td>Jan Oblak</td>\n",
       "      <td>https://cdn.sofifa.com/players/200/389/21_60.png</td>\n",
       "      <td>http://sofifa.com/player/200389/jan-oblak/210006/</td>\n",
       "      <td>Slovenia</td>\n",
       "      <td>27</td>\n",
       "      <td>91</td>\n",
       "      <td>93</td>\n",
       "      <td>\\n\\n\\n\\nAtlético Madrid</td>\n",
       "      <td>2014 ~ 2023</td>\n",
       "      <td>GK</td>\n",
       "      <td>188cm</td>\n",
       "      <td>87kg</td>\n",
       "      <td>Right</td>\n",
       "      <td>91</td>\n",
       "      <td>GK</td>\n",
       "      <td>Jul 16, 2014</td>\n",
       "      <td>NaN</td>\n",
       "      <td>€120M</td>\n",
       "      <td>€125K</td>\n",
       "      <td>€159.4M</td>\n",
       "      <td>95</td>\n",
       "      <td>13</td>\n",
       "      <td>11</td>\n",
       "      <td>15</td>\n",
       "      <td>43</td>\n",
       "      <td>13</td>\n",
       "      <td>109</td>\n",
       "      <td>12</td>\n",
       "      <td>13</td>\n",
       "      <td>14</td>\n",
       "      <td>40</td>\n",
       "      <td>30</td>\n",
       "      <td>307</td>\n",
       "      <td>43</td>\n",
       "      <td>60</td>\n",
       "      <td>67</td>\n",
       "      <td>88</td>\n",
       "      <td>49</td>\n",
       "      <td>268</td>\n",
       "      <td>59</td>\n",
       "      <td>78</td>\n",
       "      <td>41</td>\n",
       "      <td>78</td>\n",
       "      <td>12</td>\n",
       "      <td>140</td>\n",
       "      <td>34</td>\n",
       "      <td>19</td>\n",
       "      <td>11</td>\n",
       "      <td>65</td>\n",
       "      <td>11</td>\n",
       "      <td>68</td>\n",
       "      <td>57</td>\n",
       "      <td>27</td>\n",
       "      <td>12</td>\n",
       "      <td>18</td>\n",
       "      <td>437</td>\n",
       "      <td>87</td>\n",
       "      <td>92</td>\n",
       "      <td>78</td>\n",
       "      <td>90</td>\n",
       "      <td>90</td>\n",
       "      <td>1413</td>\n",
       "      <td>489</td>\n",
       "      <td>3 ★</td>\n",
       "      <td>1★</td>\n",
       "      <td>Medium</td>\n",
       "      <td>Medium</td>\n",
       "      <td>3 ★</td>\n",
       "      <td>87</td>\n",
       "      <td>92</td>\n",
       "      <td>78</td>\n",
       "      <td>90</td>\n",
       "      <td>52</td>\n",
       "      <td>90</td>\n",
       "      <td>150</td>\n",
       "    </tr>\n",
       "    <tr>\n",
       "      <th>3</th>\n",
       "      <td>192985</td>\n",
       "      <td>K. De Bruyne</td>\n",
       "      <td>Kevin De Bruyne</td>\n",
       "      <td>https://cdn.sofifa.com/players/192/985/21_60.png</td>\n",
       "      <td>http://sofifa.com/player/192985/kevin-de-bruyn...</td>\n",
       "      <td>Belgium</td>\n",
       "      <td>29</td>\n",
       "      <td>91</td>\n",
       "      <td>91</td>\n",
       "      <td>\\n\\n\\n\\nManchester City</td>\n",
       "      <td>2015 ~ 2023</td>\n",
       "      <td>CAM, CM</td>\n",
       "      <td>181cm</td>\n",
       "      <td>70kg</td>\n",
       "      <td>Right</td>\n",
       "      <td>91</td>\n",
       "      <td>CAM</td>\n",
       "      <td>Aug 30, 2015</td>\n",
       "      <td>NaN</td>\n",
       "      <td>€129M</td>\n",
       "      <td>€370K</td>\n",
       "      <td>€161M</td>\n",
       "      <td>407</td>\n",
       "      <td>94</td>\n",
       "      <td>82</td>\n",
       "      <td>55</td>\n",
       "      <td>94</td>\n",
       "      <td>82</td>\n",
       "      <td>441</td>\n",
       "      <td>88</td>\n",
       "      <td>85</td>\n",
       "      <td>83</td>\n",
       "      <td>93</td>\n",
       "      <td>92</td>\n",
       "      <td>398</td>\n",
       "      <td>77</td>\n",
       "      <td>76</td>\n",
       "      <td>78</td>\n",
       "      <td>91</td>\n",
       "      <td>76</td>\n",
       "      <td>408</td>\n",
       "      <td>91</td>\n",
       "      <td>63</td>\n",
       "      <td>89</td>\n",
       "      <td>74</td>\n",
       "      <td>91</td>\n",
       "      <td>408</td>\n",
       "      <td>76</td>\n",
       "      <td>66</td>\n",
       "      <td>88</td>\n",
       "      <td>94</td>\n",
       "      <td>84</td>\n",
       "      <td>91</td>\n",
       "      <td>186</td>\n",
       "      <td>68</td>\n",
       "      <td>65</td>\n",
       "      <td>53</td>\n",
       "      <td>56</td>\n",
       "      <td>15</td>\n",
       "      <td>13</td>\n",
       "      <td>5</td>\n",
       "      <td>10</td>\n",
       "      <td>13</td>\n",
       "      <td>2304</td>\n",
       "      <td>485</td>\n",
       "      <td>5 ★</td>\n",
       "      <td>4★</td>\n",
       "      <td>High</td>\n",
       "      <td>High</td>\n",
       "      <td>4 ★</td>\n",
       "      <td>76</td>\n",
       "      <td>86</td>\n",
       "      <td>93</td>\n",
       "      <td>88</td>\n",
       "      <td>64</td>\n",
       "      <td>78</td>\n",
       "      <td>207</td>\n",
       "    </tr>\n",
       "    <tr>\n",
       "      <th>4</th>\n",
       "      <td>190871</td>\n",
       "      <td>Neymar Jr</td>\n",
       "      <td>Neymar da Silva Santos Jr.</td>\n",
       "      <td>https://cdn.sofifa.com/players/190/871/21_60.png</td>\n",
       "      <td>http://sofifa.com/player/190871/neymar-da-silv...</td>\n",
       "      <td>Brazil</td>\n",
       "      <td>28</td>\n",
       "      <td>91</td>\n",
       "      <td>91</td>\n",
       "      <td>\\n\\n\\n\\nParis Saint-Germain</td>\n",
       "      <td>2017 ~ 2022</td>\n",
       "      <td>LW, CAM</td>\n",
       "      <td>175cm</td>\n",
       "      <td>68kg</td>\n",
       "      <td>Right</td>\n",
       "      <td>91</td>\n",
       "      <td>LW</td>\n",
       "      <td>Aug 3, 2017</td>\n",
       "      <td>NaN</td>\n",
       "      <td>€132M</td>\n",
       "      <td>€270K</td>\n",
       "      <td>€166.5M</td>\n",
       "      <td>408</td>\n",
       "      <td>85</td>\n",
       "      <td>87</td>\n",
       "      <td>62</td>\n",
       "      <td>87</td>\n",
       "      <td>87</td>\n",
       "      <td>448</td>\n",
       "      <td>95</td>\n",
       "      <td>88</td>\n",
       "      <td>89</td>\n",
       "      <td>81</td>\n",
       "      <td>95</td>\n",
       "      <td>453</td>\n",
       "      <td>94</td>\n",
       "      <td>89</td>\n",
       "      <td>96</td>\n",
       "      <td>91</td>\n",
       "      <td>83</td>\n",
       "      <td>357</td>\n",
       "      <td>80</td>\n",
       "      <td>62</td>\n",
       "      <td>81</td>\n",
       "      <td>50</td>\n",
       "      <td>84</td>\n",
       "      <td>356</td>\n",
       "      <td>51</td>\n",
       "      <td>36</td>\n",
       "      <td>87</td>\n",
       "      <td>90</td>\n",
       "      <td>92</td>\n",
       "      <td>93</td>\n",
       "      <td>94</td>\n",
       "      <td>35</td>\n",
       "      <td>30</td>\n",
       "      <td>29</td>\n",
       "      <td>59</td>\n",
       "      <td>9</td>\n",
       "      <td>9</td>\n",
       "      <td>15</td>\n",
       "      <td>15</td>\n",
       "      <td>11</td>\n",
       "      <td>2175</td>\n",
       "      <td>451</td>\n",
       "      <td>5 ★</td>\n",
       "      <td>5★</td>\n",
       "      <td>High</td>\n",
       "      <td>Medium</td>\n",
       "      <td>5 ★</td>\n",
       "      <td>91</td>\n",
       "      <td>85</td>\n",
       "      <td>86</td>\n",
       "      <td>94</td>\n",
       "      <td>36</td>\n",
       "      <td>59</td>\n",
       "      <td>595</td>\n",
       "    </tr>\n",
       "  </tbody>\n",
       "</table>\n",
       "</div>"
      ],
      "text/plain": [
       "       ID               Name                      LongName  \\\n",
       "0  158023           L. Messi                  Lionel Messi   \n",
       "1   20801  Cristiano Ronaldo  C. Ronaldo dos Santos Aveiro   \n",
       "2  200389           J. Oblak                     Jan Oblak   \n",
       "3  192985       K. De Bruyne               Kevin De Bruyne   \n",
       "4  190871          Neymar Jr    Neymar da Silva Santos Jr.   \n",
       "\n",
       "                                           photoUrl  \\\n",
       "0  https://cdn.sofifa.com/players/158/023/21_60.png   \n",
       "1  https://cdn.sofifa.com/players/020/801/21_60.png   \n",
       "2  https://cdn.sofifa.com/players/200/389/21_60.png   \n",
       "3  https://cdn.sofifa.com/players/192/985/21_60.png   \n",
       "4  https://cdn.sofifa.com/players/190/871/21_60.png   \n",
       "\n",
       "                                           playerUrl Nationality  Age  ↓OVA  \\\n",
       "0  http://sofifa.com/player/158023/lionel-messi/2...   Argentina   33    93   \n",
       "1  http://sofifa.com/player/20801/c-ronaldo-dos-s...    Portugal   35    92   \n",
       "2  http://sofifa.com/player/200389/jan-oblak/210006/    Slovenia   27    91   \n",
       "3  http://sofifa.com/player/192985/kevin-de-bruyn...     Belgium   29    91   \n",
       "4  http://sofifa.com/player/190871/neymar-da-silv...      Brazil   28    91   \n",
       "\n",
       "   POT                         Club     Contract   Positions Height Weight  \\\n",
       "0   93         \\n\\n\\n\\nFC Barcelona  2004 ~ 2021  RW, ST, CF  170cm   72kg   \n",
       "1   92             \\n\\n\\n\\nJuventus  2018 ~ 2022      ST, LW  187cm   83kg   \n",
       "2   93      \\n\\n\\n\\nAtlético Madrid  2014 ~ 2023          GK  188cm   87kg   \n",
       "3   91      \\n\\n\\n\\nManchester City  2015 ~ 2023     CAM, CM  181cm   70kg   \n",
       "4   91  \\n\\n\\n\\nParis Saint-Germain  2017 ~ 2022     LW, CAM  175cm   68kg   \n",
       "\n",
       "  Preferred Foot  BOV Best Position        Joined Loan Date End    Value  \\\n",
       "0           Left   93            RW   Jul 1, 2004           NaN  €103.5M   \n",
       "1          Right   92            ST  Jul 10, 2018           NaN     €63M   \n",
       "2          Right   91            GK  Jul 16, 2014           NaN    €120M   \n",
       "3          Right   91           CAM  Aug 30, 2015           NaN    €129M   \n",
       "4          Right   91            LW   Aug 3, 2017           NaN    €132M   \n",
       "\n",
       "    Wage Release Clause  Attacking  Crossing  Finishing  Heading Accuracy  \\\n",
       "0  €560K        €138.4M        429        85         95                70   \n",
       "1  €220K         €75.9M        437        84         95                90   \n",
       "2  €125K        €159.4M         95        13         11                15   \n",
       "3  €370K          €161M        407        94         82                55   \n",
       "4  €270K        €166.5M        408        85         87                62   \n",
       "\n",
       "   Short Passing  Volleys  Skill  Dribbling  Curve  FK Accuracy  Long Passing  \\\n",
       "0             91       88    470         96     93           94            91   \n",
       "1             82       86    414         88     81           76            77   \n",
       "2             43       13    109         12     13           14            40   \n",
       "3             94       82    441         88     85           83            93   \n",
       "4             87       87    448         95     88           89            81   \n",
       "\n",
       "   Ball Control  Movement  Acceleration  Sprint Speed  Agility  Reactions  \\\n",
       "0            96       451            91            80       91         94   \n",
       "1            92       431            87            91       87         95   \n",
       "2            30       307            43            60       67         88   \n",
       "3            92       398            77            76       78         91   \n",
       "4            95       453            94            89       96         91   \n",
       "\n",
       "   Balance  Power  Shot Power  Jumping  Stamina  Strength  Long Shots  \\\n",
       "0       95    389          86       68       72        69          94   \n",
       "1       71    444          94       95       84        78          93   \n",
       "2       49    268          59       78       41        78          12   \n",
       "3       76    408          91       63       89        74          91   \n",
       "4       83    357          80       62       81        50          84   \n",
       "\n",
       "   Mentality  Aggression  Interceptions  Positioning  Vision  Penalties  \\\n",
       "0        347          44             40           93      95         75   \n",
       "1        353          63             29           95      82         84   \n",
       "2        140          34             19           11      65         11   \n",
       "3        408          76             66           88      94         84   \n",
       "4        356          51             36           87      90         92   \n",
       "\n",
       "   Composure  Defending  Marking  Standing Tackle  Sliding Tackle  \\\n",
       "0         96         91       32               35              24   \n",
       "1         95         84       28               32              24   \n",
       "2         68         57       27               12              18   \n",
       "3         91        186       68               65              53   \n",
       "4         93         94       35               30              29   \n",
       "\n",
       "   Goalkeeping  GK Diving  GK Handling  GK Kicking  GK Positioning  \\\n",
       "0           54          6           11          15              14   \n",
       "1           58          7           11          15              14   \n",
       "2          437         87           92          78              90   \n",
       "3           56         15           13           5              10   \n",
       "4           59          9            9          15              15   \n",
       "\n",
       "   GK Reflexes  Total Stats  Base Stats  W/F  SM     A/W     D/W   IR  PAC  \\\n",
       "0            8         2231         466  4 ★  4★  Medium     Low  5 ★   85   \n",
       "1           11         2221         464  4 ★  5★    High     Low  5 ★   89   \n",
       "2           90         1413         489  3 ★  1★  Medium  Medium  3 ★   87   \n",
       "3           13         2304         485  5 ★  4★    High    High  4 ★   76   \n",
       "4           11         2175         451  5 ★  5★    High  Medium  5 ★   91   \n",
       "\n",
       "   SHO  PAS  DRI  DEF  PHY Hits  \n",
       "0   92   91   95   38   65  771  \n",
       "1   93   81   89   35   77  562  \n",
       "2   92   78   90   52   90  150  \n",
       "3   86   93   88   64   78  207  \n",
       "4   85   86   94   36   59  595  "
      ]
     },
     "execution_count": 6,
     "metadata": {},
     "output_type": "execute_result"
    }
   ],
   "source": [
    "abbreviated_column_mapping = {\n",
    "    'ova': 'overall_rating',\n",
    "    'pot': 'potential',\n",
    "    'bov': 'best_overall_rating',\n",
    "    'bp': 'best_position',\n",
    "    'growth': 'growth_ova_minus_pot',\n",
    "    'value': 'market_value_euros',\n",
    "    'wage': 'weekly_wage_euros',\n",
    "    'release_clause': 'release_clause_amount_euros',\n",
    "    'gk_diving': 'goalkeeper_diving_skill',\n",
    "    'gk_handling': 'goalkeeper_handling_skill',\n",
    "    'gk_kicking': 'goalkeeper_kicking_skill',\n",
    "    'gk_positioning': 'goalkeeper_positioning_skill',\n",
    "    'gk_reflexes': 'goalkeeper_reflexes_skill',\n",
    "    'wf': 'weak_foot_rating',\n",
    "    'sm': 'skill_moves_rating',\n",
    "    'aw': 'attacking_work_rate',\n",
    "    'dw': 'defensive_work_rate',\n",
    "    'ir': 'international_reputation',\n",
    "    'pac': 'pace_rating',\n",
    "    'sho': 'shooting_rating',\n",
    "    'pas': 'passing_rating',\n",
    "    'dri': 'dribbling_rating',\n",
    "    'def': 'defending_rating',\n",
    "    'phy': 'physicality_rating',\n",
    "    'hits': 'sofifa_page_views'\n",
    "}\n",
    "\n",
    "# Apply the mapping to rename the columns\n",
    "df.rename(columns=abbreviated_column_mapping, inplace=True)\n",
    "\n",
    "# Display the first few rows to verify the changes\n",
    "df.head()\n"
   ]
  },
  {
   "cell_type": "markdown",
   "id": "e8b04ccf-9b0d-42e0-b242-3d7c43a0431d",
   "metadata": {},
   "source": [
    "\n",
    "# Initial Observations\n"
   ]
  },
  {
   "cell_type": "code",
   "execution_count": 10,
   "id": "d21d939d-98bc-4b67-aaa9-3efa12585313",
   "metadata": {
    "tags": []
   },
   "outputs": [
    {
     "data": {
      "text/html": [
       "<div>\n",
       "<style scoped>\n",
       "    .dataframe tbody tr th:only-of-type {\n",
       "        vertical-align: middle;\n",
       "    }\n",
       "\n",
       "    .dataframe tbody tr th {\n",
       "        vertical-align: top;\n",
       "    }\n",
       "\n",
       "    .dataframe thead th {\n",
       "        text-align: right;\n",
       "    }\n",
       "</style>\n",
       "<table border=\"1\" class=\"dataframe\">\n",
       "  <thead>\n",
       "    <tr style=\"text-align: right;\">\n",
       "      <th></th>\n",
       "      <th>ID</th>\n",
       "      <th>Name</th>\n",
       "      <th>LongName</th>\n",
       "      <th>photoUrl</th>\n",
       "      <th>playerUrl</th>\n",
       "      <th>Nationality</th>\n",
       "      <th>Age</th>\n",
       "      <th>↓OVA</th>\n",
       "      <th>POT</th>\n",
       "      <th>Club</th>\n",
       "      <th>Contract</th>\n",
       "      <th>Positions</th>\n",
       "      <th>Height</th>\n",
       "      <th>Weight</th>\n",
       "      <th>Preferred Foot</th>\n",
       "      <th>BOV</th>\n",
       "      <th>Best Position</th>\n",
       "      <th>Joined</th>\n",
       "      <th>Loan Date End</th>\n",
       "      <th>Value</th>\n",
       "      <th>Wage</th>\n",
       "      <th>Release Clause</th>\n",
       "      <th>Attacking</th>\n",
       "      <th>Crossing</th>\n",
       "      <th>Finishing</th>\n",
       "      <th>Heading Accuracy</th>\n",
       "      <th>Short Passing</th>\n",
       "      <th>Volleys</th>\n",
       "      <th>Skill</th>\n",
       "      <th>Dribbling</th>\n",
       "      <th>Curve</th>\n",
       "      <th>FK Accuracy</th>\n",
       "      <th>Long Passing</th>\n",
       "      <th>Ball Control</th>\n",
       "      <th>Movement</th>\n",
       "      <th>Acceleration</th>\n",
       "      <th>Sprint Speed</th>\n",
       "      <th>Agility</th>\n",
       "      <th>Reactions</th>\n",
       "      <th>Balance</th>\n",
       "      <th>Power</th>\n",
       "      <th>Shot Power</th>\n",
       "      <th>Jumping</th>\n",
       "      <th>Stamina</th>\n",
       "      <th>Strength</th>\n",
       "      <th>Long Shots</th>\n",
       "      <th>Mentality</th>\n",
       "      <th>Aggression</th>\n",
       "      <th>Interceptions</th>\n",
       "      <th>Positioning</th>\n",
       "      <th>Vision</th>\n",
       "      <th>Penalties</th>\n",
       "      <th>Composure</th>\n",
       "      <th>Defending</th>\n",
       "      <th>Marking</th>\n",
       "      <th>Standing Tackle</th>\n",
       "      <th>Sliding Tackle</th>\n",
       "      <th>Goalkeeping</th>\n",
       "      <th>GK Diving</th>\n",
       "      <th>GK Handling</th>\n",
       "      <th>GK Kicking</th>\n",
       "      <th>GK Positioning</th>\n",
       "      <th>GK Reflexes</th>\n",
       "      <th>Total Stats</th>\n",
       "      <th>Base Stats</th>\n",
       "      <th>W/F</th>\n",
       "      <th>SM</th>\n",
       "      <th>A/W</th>\n",
       "      <th>D/W</th>\n",
       "      <th>IR</th>\n",
       "      <th>PAC</th>\n",
       "      <th>SHO</th>\n",
       "      <th>PAS</th>\n",
       "      <th>DRI</th>\n",
       "      <th>DEF</th>\n",
       "      <th>PHY</th>\n",
       "      <th>Hits</th>\n",
       "    </tr>\n",
       "  </thead>\n",
       "  <tbody>\n",
       "    <tr>\n",
       "      <th>0</th>\n",
       "      <td>158023</td>\n",
       "      <td>L. Messi</td>\n",
       "      <td>Lionel Messi</td>\n",
       "      <td>https://cdn.sofifa.com/players/158/023/21_60.png</td>\n",
       "      <td>http://sofifa.com/player/158023/lionel-messi/2...</td>\n",
       "      <td>Argentina</td>\n",
       "      <td>33</td>\n",
       "      <td>93</td>\n",
       "      <td>93</td>\n",
       "      <td>\\n\\n\\n\\nFC Barcelona</td>\n",
       "      <td>2004 ~ 2021</td>\n",
       "      <td>RW, ST, CF</td>\n",
       "      <td>170cm</td>\n",
       "      <td>72kg</td>\n",
       "      <td>Left</td>\n",
       "      <td>93</td>\n",
       "      <td>RW</td>\n",
       "      <td>Jul 1, 2004</td>\n",
       "      <td>NaN</td>\n",
       "      <td>€103.5M</td>\n",
       "      <td>€560K</td>\n",
       "      <td>€138.4M</td>\n",
       "      <td>429</td>\n",
       "      <td>85</td>\n",
       "      <td>95</td>\n",
       "      <td>70</td>\n",
       "      <td>91</td>\n",
       "      <td>88</td>\n",
       "      <td>470</td>\n",
       "      <td>96</td>\n",
       "      <td>93</td>\n",
       "      <td>94</td>\n",
       "      <td>91</td>\n",
       "      <td>96</td>\n",
       "      <td>451</td>\n",
       "      <td>91</td>\n",
       "      <td>80</td>\n",
       "      <td>91</td>\n",
       "      <td>94</td>\n",
       "      <td>95</td>\n",
       "      <td>389</td>\n",
       "      <td>86</td>\n",
       "      <td>68</td>\n",
       "      <td>72</td>\n",
       "      <td>69</td>\n",
       "      <td>94</td>\n",
       "      <td>347</td>\n",
       "      <td>44</td>\n",
       "      <td>40</td>\n",
       "      <td>93</td>\n",
       "      <td>95</td>\n",
       "      <td>75</td>\n",
       "      <td>96</td>\n",
       "      <td>91</td>\n",
       "      <td>32</td>\n",
       "      <td>35</td>\n",
       "      <td>24</td>\n",
       "      <td>54</td>\n",
       "      <td>6</td>\n",
       "      <td>11</td>\n",
       "      <td>15</td>\n",
       "      <td>14</td>\n",
       "      <td>8</td>\n",
       "      <td>2231</td>\n",
       "      <td>466</td>\n",
       "      <td>4 ★</td>\n",
       "      <td>4★</td>\n",
       "      <td>Medium</td>\n",
       "      <td>Low</td>\n",
       "      <td>5 ★</td>\n",
       "      <td>85</td>\n",
       "      <td>92</td>\n",
       "      <td>91</td>\n",
       "      <td>95</td>\n",
       "      <td>38</td>\n",
       "      <td>65</td>\n",
       "      <td>771</td>\n",
       "    </tr>\n",
       "    <tr>\n",
       "      <th>1</th>\n",
       "      <td>20801</td>\n",
       "      <td>Cristiano Ronaldo</td>\n",
       "      <td>C. Ronaldo dos Santos Aveiro</td>\n",
       "      <td>https://cdn.sofifa.com/players/020/801/21_60.png</td>\n",
       "      <td>http://sofifa.com/player/20801/c-ronaldo-dos-s...</td>\n",
       "      <td>Portugal</td>\n",
       "      <td>35</td>\n",
       "      <td>92</td>\n",
       "      <td>92</td>\n",
       "      <td>\\n\\n\\n\\nJuventus</td>\n",
       "      <td>2018 ~ 2022</td>\n",
       "      <td>ST, LW</td>\n",
       "      <td>187cm</td>\n",
       "      <td>83kg</td>\n",
       "      <td>Right</td>\n",
       "      <td>92</td>\n",
       "      <td>ST</td>\n",
       "      <td>Jul 10, 2018</td>\n",
       "      <td>NaN</td>\n",
       "      <td>€63M</td>\n",
       "      <td>€220K</td>\n",
       "      <td>€75.9M</td>\n",
       "      <td>437</td>\n",
       "      <td>84</td>\n",
       "      <td>95</td>\n",
       "      <td>90</td>\n",
       "      <td>82</td>\n",
       "      <td>86</td>\n",
       "      <td>414</td>\n",
       "      <td>88</td>\n",
       "      <td>81</td>\n",
       "      <td>76</td>\n",
       "      <td>77</td>\n",
       "      <td>92</td>\n",
       "      <td>431</td>\n",
       "      <td>87</td>\n",
       "      <td>91</td>\n",
       "      <td>87</td>\n",
       "      <td>95</td>\n",
       "      <td>71</td>\n",
       "      <td>444</td>\n",
       "      <td>94</td>\n",
       "      <td>95</td>\n",
       "      <td>84</td>\n",
       "      <td>78</td>\n",
       "      <td>93</td>\n",
       "      <td>353</td>\n",
       "      <td>63</td>\n",
       "      <td>29</td>\n",
       "      <td>95</td>\n",
       "      <td>82</td>\n",
       "      <td>84</td>\n",
       "      <td>95</td>\n",
       "      <td>84</td>\n",
       "      <td>28</td>\n",
       "      <td>32</td>\n",
       "      <td>24</td>\n",
       "      <td>58</td>\n",
       "      <td>7</td>\n",
       "      <td>11</td>\n",
       "      <td>15</td>\n",
       "      <td>14</td>\n",
       "      <td>11</td>\n",
       "      <td>2221</td>\n",
       "      <td>464</td>\n",
       "      <td>4 ★</td>\n",
       "      <td>5★</td>\n",
       "      <td>High</td>\n",
       "      <td>Low</td>\n",
       "      <td>5 ★</td>\n",
       "      <td>89</td>\n",
       "      <td>93</td>\n",
       "      <td>81</td>\n",
       "      <td>89</td>\n",
       "      <td>35</td>\n",
       "      <td>77</td>\n",
       "      <td>562</td>\n",
       "    </tr>\n",
       "    <tr>\n",
       "      <th>2</th>\n",
       "      <td>200389</td>\n",
       "      <td>J. Oblak</td>\n",
       "      <td>Jan Oblak</td>\n",
       "      <td>https://cdn.sofifa.com/players/200/389/21_60.png</td>\n",
       "      <td>http://sofifa.com/player/200389/jan-oblak/210006/</td>\n",
       "      <td>Slovenia</td>\n",
       "      <td>27</td>\n",
       "      <td>91</td>\n",
       "      <td>93</td>\n",
       "      <td>\\n\\n\\n\\nAtlético Madrid</td>\n",
       "      <td>2014 ~ 2023</td>\n",
       "      <td>GK</td>\n",
       "      <td>188cm</td>\n",
       "      <td>87kg</td>\n",
       "      <td>Right</td>\n",
       "      <td>91</td>\n",
       "      <td>GK</td>\n",
       "      <td>Jul 16, 2014</td>\n",
       "      <td>NaN</td>\n",
       "      <td>€120M</td>\n",
       "      <td>€125K</td>\n",
       "      <td>€159.4M</td>\n",
       "      <td>95</td>\n",
       "      <td>13</td>\n",
       "      <td>11</td>\n",
       "      <td>15</td>\n",
       "      <td>43</td>\n",
       "      <td>13</td>\n",
       "      <td>109</td>\n",
       "      <td>12</td>\n",
       "      <td>13</td>\n",
       "      <td>14</td>\n",
       "      <td>40</td>\n",
       "      <td>30</td>\n",
       "      <td>307</td>\n",
       "      <td>43</td>\n",
       "      <td>60</td>\n",
       "      <td>67</td>\n",
       "      <td>88</td>\n",
       "      <td>49</td>\n",
       "      <td>268</td>\n",
       "      <td>59</td>\n",
       "      <td>78</td>\n",
       "      <td>41</td>\n",
       "      <td>78</td>\n",
       "      <td>12</td>\n",
       "      <td>140</td>\n",
       "      <td>34</td>\n",
       "      <td>19</td>\n",
       "      <td>11</td>\n",
       "      <td>65</td>\n",
       "      <td>11</td>\n",
       "      <td>68</td>\n",
       "      <td>57</td>\n",
       "      <td>27</td>\n",
       "      <td>12</td>\n",
       "      <td>18</td>\n",
       "      <td>437</td>\n",
       "      <td>87</td>\n",
       "      <td>92</td>\n",
       "      <td>78</td>\n",
       "      <td>90</td>\n",
       "      <td>90</td>\n",
       "      <td>1413</td>\n",
       "      <td>489</td>\n",
       "      <td>3 ★</td>\n",
       "      <td>1★</td>\n",
       "      <td>Medium</td>\n",
       "      <td>Medium</td>\n",
       "      <td>3 ★</td>\n",
       "      <td>87</td>\n",
       "      <td>92</td>\n",
       "      <td>78</td>\n",
       "      <td>90</td>\n",
       "      <td>52</td>\n",
       "      <td>90</td>\n",
       "      <td>150</td>\n",
       "    </tr>\n",
       "    <tr>\n",
       "      <th>3</th>\n",
       "      <td>192985</td>\n",
       "      <td>K. De Bruyne</td>\n",
       "      <td>Kevin De Bruyne</td>\n",
       "      <td>https://cdn.sofifa.com/players/192/985/21_60.png</td>\n",
       "      <td>http://sofifa.com/player/192985/kevin-de-bruyn...</td>\n",
       "      <td>Belgium</td>\n",
       "      <td>29</td>\n",
       "      <td>91</td>\n",
       "      <td>91</td>\n",
       "      <td>\\n\\n\\n\\nManchester City</td>\n",
       "      <td>2015 ~ 2023</td>\n",
       "      <td>CAM, CM</td>\n",
       "      <td>181cm</td>\n",
       "      <td>70kg</td>\n",
       "      <td>Right</td>\n",
       "      <td>91</td>\n",
       "      <td>CAM</td>\n",
       "      <td>Aug 30, 2015</td>\n",
       "      <td>NaN</td>\n",
       "      <td>€129M</td>\n",
       "      <td>€370K</td>\n",
       "      <td>€161M</td>\n",
       "      <td>407</td>\n",
       "      <td>94</td>\n",
       "      <td>82</td>\n",
       "      <td>55</td>\n",
       "      <td>94</td>\n",
       "      <td>82</td>\n",
       "      <td>441</td>\n",
       "      <td>88</td>\n",
       "      <td>85</td>\n",
       "      <td>83</td>\n",
       "      <td>93</td>\n",
       "      <td>92</td>\n",
       "      <td>398</td>\n",
       "      <td>77</td>\n",
       "      <td>76</td>\n",
       "      <td>78</td>\n",
       "      <td>91</td>\n",
       "      <td>76</td>\n",
       "      <td>408</td>\n",
       "      <td>91</td>\n",
       "      <td>63</td>\n",
       "      <td>89</td>\n",
       "      <td>74</td>\n",
       "      <td>91</td>\n",
       "      <td>408</td>\n",
       "      <td>76</td>\n",
       "      <td>66</td>\n",
       "      <td>88</td>\n",
       "      <td>94</td>\n",
       "      <td>84</td>\n",
       "      <td>91</td>\n",
       "      <td>186</td>\n",
       "      <td>68</td>\n",
       "      <td>65</td>\n",
       "      <td>53</td>\n",
       "      <td>56</td>\n",
       "      <td>15</td>\n",
       "      <td>13</td>\n",
       "      <td>5</td>\n",
       "      <td>10</td>\n",
       "      <td>13</td>\n",
       "      <td>2304</td>\n",
       "      <td>485</td>\n",
       "      <td>5 ★</td>\n",
       "      <td>4★</td>\n",
       "      <td>High</td>\n",
       "      <td>High</td>\n",
       "      <td>4 ★</td>\n",
       "      <td>76</td>\n",
       "      <td>86</td>\n",
       "      <td>93</td>\n",
       "      <td>88</td>\n",
       "      <td>64</td>\n",
       "      <td>78</td>\n",
       "      <td>207</td>\n",
       "    </tr>\n",
       "    <tr>\n",
       "      <th>4</th>\n",
       "      <td>190871</td>\n",
       "      <td>Neymar Jr</td>\n",
       "      <td>Neymar da Silva Santos Jr.</td>\n",
       "      <td>https://cdn.sofifa.com/players/190/871/21_60.png</td>\n",
       "      <td>http://sofifa.com/player/190871/neymar-da-silv...</td>\n",
       "      <td>Brazil</td>\n",
       "      <td>28</td>\n",
       "      <td>91</td>\n",
       "      <td>91</td>\n",
       "      <td>\\n\\n\\n\\nParis Saint-Germain</td>\n",
       "      <td>2017 ~ 2022</td>\n",
       "      <td>LW, CAM</td>\n",
       "      <td>175cm</td>\n",
       "      <td>68kg</td>\n",
       "      <td>Right</td>\n",
       "      <td>91</td>\n",
       "      <td>LW</td>\n",
       "      <td>Aug 3, 2017</td>\n",
       "      <td>NaN</td>\n",
       "      <td>€132M</td>\n",
       "      <td>€270K</td>\n",
       "      <td>€166.5M</td>\n",
       "      <td>408</td>\n",
       "      <td>85</td>\n",
       "      <td>87</td>\n",
       "      <td>62</td>\n",
       "      <td>87</td>\n",
       "      <td>87</td>\n",
       "      <td>448</td>\n",
       "      <td>95</td>\n",
       "      <td>88</td>\n",
       "      <td>89</td>\n",
       "      <td>81</td>\n",
       "      <td>95</td>\n",
       "      <td>453</td>\n",
       "      <td>94</td>\n",
       "      <td>89</td>\n",
       "      <td>96</td>\n",
       "      <td>91</td>\n",
       "      <td>83</td>\n",
       "      <td>357</td>\n",
       "      <td>80</td>\n",
       "      <td>62</td>\n",
       "      <td>81</td>\n",
       "      <td>50</td>\n",
       "      <td>84</td>\n",
       "      <td>356</td>\n",
       "      <td>51</td>\n",
       "      <td>36</td>\n",
       "      <td>87</td>\n",
       "      <td>90</td>\n",
       "      <td>92</td>\n",
       "      <td>93</td>\n",
       "      <td>94</td>\n",
       "      <td>35</td>\n",
       "      <td>30</td>\n",
       "      <td>29</td>\n",
       "      <td>59</td>\n",
       "      <td>9</td>\n",
       "      <td>9</td>\n",
       "      <td>15</td>\n",
       "      <td>15</td>\n",
       "      <td>11</td>\n",
       "      <td>2175</td>\n",
       "      <td>451</td>\n",
       "      <td>5 ★</td>\n",
       "      <td>5★</td>\n",
       "      <td>High</td>\n",
       "      <td>Medium</td>\n",
       "      <td>5 ★</td>\n",
       "      <td>91</td>\n",
       "      <td>85</td>\n",
       "      <td>86</td>\n",
       "      <td>94</td>\n",
       "      <td>36</td>\n",
       "      <td>59</td>\n",
       "      <td>595</td>\n",
       "    </tr>\n",
       "  </tbody>\n",
       "</table>\n",
       "</div>"
      ],
      "text/plain": [
       "       ID               Name                      LongName  \\\n",
       "0  158023           L. Messi                  Lionel Messi   \n",
       "1   20801  Cristiano Ronaldo  C. Ronaldo dos Santos Aveiro   \n",
       "2  200389           J. Oblak                     Jan Oblak   \n",
       "3  192985       K. De Bruyne               Kevin De Bruyne   \n",
       "4  190871          Neymar Jr    Neymar da Silva Santos Jr.   \n",
       "\n",
       "                                           photoUrl  \\\n",
       "0  https://cdn.sofifa.com/players/158/023/21_60.png   \n",
       "1  https://cdn.sofifa.com/players/020/801/21_60.png   \n",
       "2  https://cdn.sofifa.com/players/200/389/21_60.png   \n",
       "3  https://cdn.sofifa.com/players/192/985/21_60.png   \n",
       "4  https://cdn.sofifa.com/players/190/871/21_60.png   \n",
       "\n",
       "                                           playerUrl Nationality  Age  ↓OVA  \\\n",
       "0  http://sofifa.com/player/158023/lionel-messi/2...   Argentina   33    93   \n",
       "1  http://sofifa.com/player/20801/c-ronaldo-dos-s...    Portugal   35    92   \n",
       "2  http://sofifa.com/player/200389/jan-oblak/210006/    Slovenia   27    91   \n",
       "3  http://sofifa.com/player/192985/kevin-de-bruyn...     Belgium   29    91   \n",
       "4  http://sofifa.com/player/190871/neymar-da-silv...      Brazil   28    91   \n",
       "\n",
       "   POT                         Club     Contract   Positions Height Weight  \\\n",
       "0   93         \\n\\n\\n\\nFC Barcelona  2004 ~ 2021  RW, ST, CF  170cm   72kg   \n",
       "1   92             \\n\\n\\n\\nJuventus  2018 ~ 2022      ST, LW  187cm   83kg   \n",
       "2   93      \\n\\n\\n\\nAtlético Madrid  2014 ~ 2023          GK  188cm   87kg   \n",
       "3   91      \\n\\n\\n\\nManchester City  2015 ~ 2023     CAM, CM  181cm   70kg   \n",
       "4   91  \\n\\n\\n\\nParis Saint-Germain  2017 ~ 2022     LW, CAM  175cm   68kg   \n",
       "\n",
       "  Preferred Foot  BOV Best Position        Joined Loan Date End    Value  \\\n",
       "0           Left   93            RW   Jul 1, 2004           NaN  €103.5M   \n",
       "1          Right   92            ST  Jul 10, 2018           NaN     €63M   \n",
       "2          Right   91            GK  Jul 16, 2014           NaN    €120M   \n",
       "3          Right   91           CAM  Aug 30, 2015           NaN    €129M   \n",
       "4          Right   91            LW   Aug 3, 2017           NaN    €132M   \n",
       "\n",
       "    Wage Release Clause  Attacking  Crossing  Finishing  Heading Accuracy  \\\n",
       "0  €560K        €138.4M        429        85         95                70   \n",
       "1  €220K         €75.9M        437        84         95                90   \n",
       "2  €125K        €159.4M         95        13         11                15   \n",
       "3  €370K          €161M        407        94         82                55   \n",
       "4  €270K        €166.5M        408        85         87                62   \n",
       "\n",
       "   Short Passing  Volleys  Skill  Dribbling  Curve  FK Accuracy  Long Passing  \\\n",
       "0             91       88    470         96     93           94            91   \n",
       "1             82       86    414         88     81           76            77   \n",
       "2             43       13    109         12     13           14            40   \n",
       "3             94       82    441         88     85           83            93   \n",
       "4             87       87    448         95     88           89            81   \n",
       "\n",
       "   Ball Control  Movement  Acceleration  Sprint Speed  Agility  Reactions  \\\n",
       "0            96       451            91            80       91         94   \n",
       "1            92       431            87            91       87         95   \n",
       "2            30       307            43            60       67         88   \n",
       "3            92       398            77            76       78         91   \n",
       "4            95       453            94            89       96         91   \n",
       "\n",
       "   Balance  Power  Shot Power  Jumping  Stamina  Strength  Long Shots  \\\n",
       "0       95    389          86       68       72        69          94   \n",
       "1       71    444          94       95       84        78          93   \n",
       "2       49    268          59       78       41        78          12   \n",
       "3       76    408          91       63       89        74          91   \n",
       "4       83    357          80       62       81        50          84   \n",
       "\n",
       "   Mentality  Aggression  Interceptions  Positioning  Vision  Penalties  \\\n",
       "0        347          44             40           93      95         75   \n",
       "1        353          63             29           95      82         84   \n",
       "2        140          34             19           11      65         11   \n",
       "3        408          76             66           88      94         84   \n",
       "4        356          51             36           87      90         92   \n",
       "\n",
       "   Composure  Defending  Marking  Standing Tackle  Sliding Tackle  \\\n",
       "0         96         91       32               35              24   \n",
       "1         95         84       28               32              24   \n",
       "2         68         57       27               12              18   \n",
       "3         91        186       68               65              53   \n",
       "4         93         94       35               30              29   \n",
       "\n",
       "   Goalkeeping  GK Diving  GK Handling  GK Kicking  GK Positioning  \\\n",
       "0           54          6           11          15              14   \n",
       "1           58          7           11          15              14   \n",
       "2          437         87           92          78              90   \n",
       "3           56         15           13           5              10   \n",
       "4           59          9            9          15              15   \n",
       "\n",
       "   GK Reflexes  Total Stats  Base Stats  W/F  SM     A/W     D/W   IR  PAC  \\\n",
       "0            8         2231         466  4 ★  4★  Medium     Low  5 ★   85   \n",
       "1           11         2221         464  4 ★  5★    High     Low  5 ★   89   \n",
       "2           90         1413         489  3 ★  1★  Medium  Medium  3 ★   87   \n",
       "3           13         2304         485  5 ★  4★    High    High  4 ★   76   \n",
       "4           11         2175         451  5 ★  5★    High  Medium  5 ★   91   \n",
       "\n",
       "   SHO  PAS  DRI  DEF  PHY Hits  \n",
       "0   92   91   95   38   65  771  \n",
       "1   93   81   89   35   77  562  \n",
       "2   92   78   90   52   90  150  \n",
       "3   86   93   88   64   78  207  \n",
       "4   85   86   94   36   59  595  "
      ]
     },
     "execution_count": 10,
     "metadata": {},
     "output_type": "execute_result"
    }
   ],
   "source": [
    "# Display the finternational_reputationst few rows of the dataframe to get an overview of the data\n",
    "df.head()\n"
   ]
  },
  {
   "cell_type": "code",
   "execution_count": 11,
   "id": "06f31289-0bca-4c72-a045-3cf0c22c01a8",
   "metadata": {
    "tags": []
   },
   "outputs": [
    {
     "name": "stdout",
     "output_type": "stream",
     "text": [
      "<class 'pandas.core.frame.DataFrame'>\n",
      "RangeIndex: 18979 entries, 0 to 18978\n",
      "Data columns (total 77 columns):\n",
      " #   Column            Non-Null Count  Dtype \n",
      "---  ------            --------------  ----- \n",
      " 0   ID                18979 non-null  int64 \n",
      " 1   Name              18979 non-null  object\n",
      " 2   LongName          18979 non-null  object\n",
      " 3   photoUrl          18979 non-null  object\n",
      " 4   playerUrl         18979 non-null  object\n",
      " 5   Nationality       18979 non-null  object\n",
      " 6   Age               18979 non-null  int64 \n",
      " 7   ↓OVA              18979 non-null  int64 \n",
      " 8   POT               18979 non-null  int64 \n",
      " 9   Club              18979 non-null  object\n",
      " 10  Contract          18979 non-null  object\n",
      " 11  Positions         18979 non-null  object\n",
      " 12  Height            18979 non-null  object\n",
      " 13  Weight            18979 non-null  object\n",
      " 14  Preferred Foot    18979 non-null  object\n",
      " 15  BOV               18979 non-null  int64 \n",
      " 16  Best Position     18979 non-null  object\n",
      " 17  Joined            18979 non-null  object\n",
      " 18  Loan Date End     1013 non-null   object\n",
      " 19  Value             18979 non-null  object\n",
      " 20  Wage              18979 non-null  object\n",
      " 21  Release Clause    18979 non-null  object\n",
      " 22  Attacking         18979 non-null  int64 \n",
      " 23  Crossing          18979 non-null  int64 \n",
      " 24  Finishing         18979 non-null  int64 \n",
      " 25  Heading Accuracy  18979 non-null  int64 \n",
      " 26  Short Passing     18979 non-null  int64 \n",
      " 27  Volleys           18979 non-null  int64 \n",
      " 28  Skill             18979 non-null  int64 \n",
      " 29  Dribbling         18979 non-null  int64 \n",
      " 30  Curve             18979 non-null  int64 \n",
      " 31  FK Accuracy       18979 non-null  int64 \n",
      " 32  Long Passing      18979 non-null  int64 \n",
      " 33  Ball Control      18979 non-null  int64 \n",
      " 34  Movement          18979 non-null  int64 \n",
      " 35  Acceleration      18979 non-null  int64 \n",
      " 36  Sprint Speed      18979 non-null  int64 \n",
      " 37  Agility           18979 non-null  int64 \n",
      " 38  Reactions         18979 non-null  int64 \n",
      " 39  Balance           18979 non-null  int64 \n",
      " 40  Power             18979 non-null  int64 \n",
      " 41  Shot Power        18979 non-null  int64 \n",
      " 42  Jumping           18979 non-null  int64 \n",
      " 43  Stamina           18979 non-null  int64 \n",
      " 44  Strength          18979 non-null  int64 \n",
      " 45  Long Shots        18979 non-null  int64 \n",
      " 46  Mentality         18979 non-null  int64 \n",
      " 47  Aggression        18979 non-null  int64 \n",
      " 48  Interceptions     18979 non-null  int64 \n",
      " 49  Positioning       18979 non-null  int64 \n",
      " 50  Vision            18979 non-null  int64 \n",
      " 51  Penalties         18979 non-null  int64 \n",
      " 52  Composure         18979 non-null  int64 \n",
      " 53  Defending         18979 non-null  int64 \n",
      " 54  Marking           18979 non-null  int64 \n",
      " 55  Standing Tackle   18979 non-null  int64 \n",
      " 56  Sliding Tackle    18979 non-null  int64 \n",
      " 57  Goalkeeping       18979 non-null  int64 \n",
      " 58  GK Diving         18979 non-null  int64 \n",
      " 59  GK Handling       18979 non-null  int64 \n",
      " 60  GK Kicking        18979 non-null  int64 \n",
      " 61  GK Positioning    18979 non-null  int64 \n",
      " 62  GK Reflexes       18979 non-null  int64 \n",
      " 63  Total Stats       18979 non-null  int64 \n",
      " 64  Base Stats        18979 non-null  int64 \n",
      " 65  W/F               18979 non-null  object\n",
      " 66  SM                18979 non-null  object\n",
      " 67  A/W               18979 non-null  object\n",
      " 68  D/W               18979 non-null  object\n",
      " 69  IR                18979 non-null  object\n",
      " 70  PAC               18979 non-null  int64 \n",
      " 71  SHO               18979 non-null  int64 \n",
      " 72  PAS               18979 non-null  int64 \n",
      " 73  DRI               18979 non-null  int64 \n",
      " 74  DEF               18979 non-null  int64 \n",
      " 75  PHY               18979 non-null  int64 \n",
      " 76  Hits              16384 non-null  object\n",
      "dtypes: int64(54), object(23)\n",
      "memory usage: 11.1+ MB\n"
     ]
    }
   ],
   "source": [
    "# Display information about the dataframe, including data types and non-null counts\n",
    "df.info()\n"
   ]
  },
  {
   "cell_type": "code",
   "execution_count": 12,
   "id": "4b519837-72cb-41e7-818f-47046a1ccecb",
   "metadata": {
    "tags": []
   },
   "outputs": [
    {
     "name": "stdout",
     "output_type": "stream",
     "text": [
      "(18979, 77)\n"
     ]
    },
    {
     "ename": "AttributeError",
     "evalue": "'Series' object has no attribute 'market_market_value_euros_euros_counts'",
     "output_type": "error",
     "traceback": [
      "\u001b[1;31m---------------------------------------------------------------------------\u001b[0m",
      "\u001b[1;31mAttributeError\u001b[0m                            Traceback (most recent call last)",
      "\u001b[1;32m~\\AppData\\Local\\Temp\\ipykernel_21932\\412263618.py\u001b[0m in \u001b[0;36m?\u001b[1;34m()\u001b[0m\n\u001b[0;32m      1\u001b[0m \u001b[1;31m# Display the shape of the dataframe (number of rows and columns)\u001b[0m\u001b[1;33m\u001b[0m\u001b[1;33m\u001b[0m\u001b[0m\n\u001b[0;32m      2\u001b[0m \u001b[0mprint\u001b[0m\u001b[1;33m(\u001b[0m\u001b[0mdf\u001b[0m\u001b[1;33m.\u001b[0m\u001b[0mshape\u001b[0m\u001b[1;33m)\u001b[0m\u001b[1;33m\u001b[0m\u001b[1;33m\u001b[0m\u001b[0m\n\u001b[0;32m      3\u001b[0m \u001b[1;33m\u001b[0m\u001b[0m\n\u001b[0;32m      4\u001b[0m \u001b[1;31m# Display the count of data types present in the dataframe\u001b[0m\u001b[1;33m\u001b[0m\u001b[1;33m\u001b[0m\u001b[0m\n\u001b[1;32m----> 5\u001b[1;33m \u001b[0mprint\u001b[0m\u001b[1;33m(\u001b[0m\u001b[0mdf\u001b[0m\u001b[1;33m.\u001b[0m\u001b[0mdtypes\u001b[0m\u001b[1;33m.\u001b[0m\u001b[0mmarket_market_value_euros_euros_counts\u001b[0m\u001b[1;33m(\u001b[0m\u001b[1;33m)\u001b[0m\u001b[1;33m)\u001b[0m\u001b[1;33m\u001b[0m\u001b[1;33m\u001b[0m\u001b[0m\n\u001b[0m",
      "\u001b[1;32mC:\\users\\trobb\\anaconda3\\Lib\\site-packages\\pandas\\core\\generic.py\u001b[0m in \u001b[0;36m?\u001b[1;34m(self, name)\u001b[0m\n\u001b[0;32m   6200\u001b[0m             \u001b[1;32mand\u001b[0m \u001b[0mname\u001b[0m \u001b[1;32mnot\u001b[0m \u001b[1;32min\u001b[0m \u001b[0mself\u001b[0m\u001b[1;33m.\u001b[0m\u001b[0m_accessors\u001b[0m\u001b[1;33m\u001b[0m\u001b[1;33m\u001b[0m\u001b[0m\n\u001b[0;32m   6201\u001b[0m             \u001b[1;32mand\u001b[0m \u001b[0mself\u001b[0m\u001b[1;33m.\u001b[0m\u001b[0m_info_axis\u001b[0m\u001b[1;33m.\u001b[0m\u001b[0m_can_hold_identifiers_and_holds_name\u001b[0m\u001b[1;33m(\u001b[0m\u001b[0mname\u001b[0m\u001b[1;33m)\u001b[0m\u001b[1;33m\u001b[0m\u001b[1;33m\u001b[0m\u001b[0m\n\u001b[0;32m   6202\u001b[0m         ):\n\u001b[0;32m   6203\u001b[0m             \u001b[1;32mreturn\u001b[0m \u001b[0mself\u001b[0m\u001b[1;33m[\u001b[0m\u001b[0mname\u001b[0m\u001b[1;33m]\u001b[0m\u001b[1;33m\u001b[0m\u001b[1;33m\u001b[0m\u001b[0m\n\u001b[1;32m-> 6204\u001b[1;33m         \u001b[1;32mreturn\u001b[0m \u001b[0mobject\u001b[0m\u001b[1;33m.\u001b[0m\u001b[0m__getattribute__\u001b[0m\u001b[1;33m(\u001b[0m\u001b[0mself\u001b[0m\u001b[1;33m,\u001b[0m \u001b[0mname\u001b[0m\u001b[1;33m)\u001b[0m\u001b[1;33m\u001b[0m\u001b[1;33m\u001b[0m\u001b[0m\n\u001b[0m",
      "\u001b[1;31mAttributeError\u001b[0m: 'Series' object has no attribute 'market_market_value_euros_euros_counts'"
     ]
    }
   ],
   "source": [
    "# Display the shape of the dataframe (number of rows and columns)\n",
    "print(df.shape)\n",
    "\n",
    "# Display the count of data types present in the dataframe\n",
    "print(df.dtypes.market_market_value_euros_euros_counts())\n"
   ]
  },
  {
   "cell_type": "code",
   "execution_count": null,
   "id": "01976b39-f97e-43de-b70c-b5c6fca723ce",
   "metadata": {
    "tags": []
   },
   "outputs": [],
   "source": [
    "# Descriptive Statistics for Numerical Features\n",
    "df.describe()\n",
    "\n"
   ]
  },
  {
   "cell_type": "markdown",
   "id": "dd6b0bfe-30cb-4a3a-ae69-d92908382797",
   "metadata": {},
   "source": [
    "\n",
    "- **Numerical Features:**  \n",
    "  The dataset contains various player attributes like age, overall rating (↓ova), potential (pot), and many specific skills (e.g., crossing, finishing, dribbling). The age of players ranges from 16 to 53, with an average around 25. The overall rating ranges from 47 to 93, indicating a wide variety of player skills.\n"
   ]
  },
  {
   "cell_type": "code",
   "execution_count": null,
   "id": "400f383a-1c20-4af1-bea5-5a1a3fcf1726",
   "metadata": {
    "tags": []
   },
   "outputs": [],
   "source": [
    "# Descriptive Statistics for Categorical Features\n",
    "df.describe(include='object')  # The include='object' parameter includes only the categorical columns in the summary statistics\n",
    "\n",
    "# Provides summary statistics for categorical columns, including count, unique market_market_value_euros_euross, top market_market_value_euros_euross, and frequency\n"
   ]
  },
  {
   "cell_type": "markdown",
   "id": "6da16ad8-47bb-4fd0-91c2-a3a74bdebd8e",
   "metadata": {},
   "source": [
    "\n",
    "- **Categorical Features:**  \n",
    "  Key categorical features include player names, nationalities, and club names. There are 17,920 unique player names and 164 unique nationalities, indicating a diverse set of players. The 'hits' column, which might indicate popularity or some performance metric, has 2,595 missing values.\n"
   ]
  },
  {
   "cell_type": "code",
   "execution_count": null,
   "id": "2f857102-b096-4e8b-84b2-4508fb144fd3",
   "metadata": {},
   "outputs": [],
   "source": [
    "# Missing Values\n",
    "# Calculate the number of missing market_market_value_euros_euross in each column\n",
    "missing_market_market_value_euros_euross = df.isnull().sum()  # The isnull() function detects missing market_market_value_euros_euross, and sum() calculates the total missing market_market_value_euros_euross per column\n",
    "\n",
    "# Sort the columns by the number of missing market_market_value_euros_euross in descending order\n",
    "missing_market_market_value_euros_euross = missing_market_market_value_euros_euross.sort_market_market_value_euros_euross(ascending=False)  # sort_market_market_value_euros_euross() sorts the market_market_value_euros_euross, and ascending=False sorts them in descending order\n",
    "\n",
    "# Display the top 10 columns with the most missing market_market_value_euros_euross\n",
    "missing_market_market_value_euros_euross.head(10)  # Displaying only the top 10 columns with most missing market_market_value_euros_euross\n"
   ]
  },
  {
   "cell_type": "markdown",
   "id": "aee74bad-0663-4ac8-a51e-c9e972726c6e",
   "metadata": {},
   "source": [
    "Missing Values:\n",
    "- Loan Date End: The 'loan_date_end' column has the most missing values (17,966), which is expected as not all players are on loan.\n",
    "- Hits: The 'hits' column has 2,595 missing values, which may need further investigation or imputation."
   ]
  },
  {
   "cell_type": "code",
   "execution_count": null,
   "id": "11e9f3a8-9f33-44d4-9179-971dbb8f1ea5",
   "metadata": {
    "tags": []
   },
   "outputs": [],
   "source": [
    "# Renaming columns: Convert to snake-case.  replacing space_ratinge_ratinges with underscores and converting to lowercase\n",
    "df.columns = [col.strip().replace(' ', '_').lower() for col in df.columns]\n",
    "\n",
    "# Displaying the new column names\n",
    "df.columns.tolist()\n"
   ]
  },
  {
   "cell_type": "code",
   "execution_count": null,
   "id": "87080583-83d7-468d-bc4e-6baccd9b4ec5",
   "metadata": {
    "tags": []
   },
   "outputs": [],
   "source": [
    "df.head()"
   ]
  },
  {
   "cell_type": "markdown",
   "id": "2f4bfa34-2989-43d5-b24b-14f01c4e7e0e",
   "metadata": {
    "tags": []
   },
   "source": [
    "# Data Cleaning Plan\n",
    "    \n",
    "1. Handling Missing Values\n",
    "2. Correcting Data Types\n",
    "3. Cleaning Text and Categorical Data\n",
    "4. Handling Special Characters\n",
    "5. Dealing with Outliers\n",
    "6. Dropping Irrelevant Columns\n",
    "7. Ensuring Consistency\n"
   ]
  },
  {
   "cell_type": "markdown",
   "id": "40d475b3-fe64-4e1e-9931-c62e761b6e34",
   "metadata": {
    "tags": []
   },
   "source": [
    "## 1. Handling Missing Values"
   ]
  },
  {
   "cell_type": "markdown",
   "id": "ae0e3efb-1e55-4e71-b4f8-8547c81203ed",
   "metadata": {},
   "source": [
    "### 1.1 Loan End Date\n",
    "Since 94.66% of the values are missing, and this column indicates whether a player is on loan, we'll create a boolean indicator variable. This variable will be True if the player is on loan (i.e., the 'loan_date_end' is not missing) and False, otherwise.\n"
   ]
  },
  {
   "cell_type": "code",
   "execution_count": null,
   "id": "162e5c41-e673-462d-830f-d613a4f2c3c3",
   "metadata": {
    "tags": []
   },
   "outputs": [],
   "source": [
    "# Step 1.1: Create a boolean for 'loan_date_end'\n",
    "df['is_on_loan'] = df['loan_date_end'].notna().astype(bool)\n",
    "\n",
    "df['is_on_loan'].market_market_value_euros_euros_counts()\n",
    "\n",
    "df['is_on_loan'].head()"
   ]
  },
  {
   "cell_type": "code",
   "execution_count": null,
   "id": "c1d0838a-495b-4708-91d1-e7ca8b92a27e",
   "metadata": {
    "tags": []
   },
   "outputs": [],
   "source": [
    "# Fill missing market_market_value_euros_euross in the loan_date_end column with NaT\n",
    "df['loan_date_end'].fillna(pd.NaT, inplace=True)\n",
    "\n",
    "# Verify the changes\n",
    "print(df.head())\n",
    "print(df.info())"
   ]
  },
  {
   "cell_type": "markdown",
   "id": "6b12aa9b-869b-44b2-b104-9ee6a89fc987",
   "metadata": {},
   "source": [
    "'loan_date_end' (now 'is_on_loan'): There are 1,013 players on loan (True), and 17,966 that are not (False)."
   ]
  },
  {
   "cell_type": "code",
   "execution_count": null,
   "id": "e91825b8-b93e-47fb-a878-897d8f70c707",
   "metadata": {},
   "outputs": [],
   "source": [
    "df.isna().sum()"
   ]
  },
  {
   "cell_type": "markdown",
   "id": "f746809e-24a8-42ee-9696-14f68537b12f",
   "metadata": {},
   "source": [
    "### 1.2. Hits\n",
    "This column represents the sofifa page views and may or may not be important depending on the analysis. With 13.67% missing, we can impute these missing values. A common approach is to use the median or mean, but we should first check the distribution to decide."
   ]
  },
  {
   "cell_type": "code",
   "execution_count": null,
   "id": "3cf821a0-c5bf-402b-bfab-4e5c0e6bbbc2",
   "metadata": {
    "tags": []
   },
   "outputs": [],
   "source": [
    "# Step 1.2: Examine the distribution of 'sofifa_page_views'\n",
    "print(df['sofifa_page_views'].describe())\n"
   ]
  },
  {
   "cell_type": "markdown",
   "id": "0cb08056-f5a3-4094-a6b6-8431de1579c4",
   "metadata": {
    "tags": []
   },
   "source": [
    "This column is not numerical as initially assumed; it's categorical with 450 unique values, and the most common value is '1'. Before deciding on imputation, it's essential to convert this to a numerical format and understand its distribution.\n"
   ]
  },
  {
   "cell_type": "code",
   "execution_count": null,
   "id": "8c1e3af2-535e-4e3f-86a3-77260021a471",
   "metadata": {
    "tags": []
   },
   "outputs": [],
   "source": [
    "# Convert 'sofifa_page_views' to numeric, coercing errors to NaN (which will then be imputed)\n",
    "df['sofifa_page_views'] = pd.to_numeric(df['sofifa_page_views'], errors='coerce')\n",
    "\n",
    "# Now, let's examine the distribution of 'sofifa_page_views' to decide on the imputation method\n",
    "df['sofifa_page_views'].describe()\n",
    "\n"
   ]
  },
  {
   "cell_type": "markdown",
   "id": "88537f47-f01a-4069-bbc6-3c5c96e10983",
   "metadata": {
    "tags": []
   },
   "source": [
    "- Given the right-skewed distribution, the median is likely a more robust measure for imputation than the mean."
   ]
  },
  {
   "cell_type": "code",
   "execution_count": null,
   "id": "9e407a6f-e086-4274-bbe6-bb32391e7379",
   "metadata": {
    "tags": []
   },
   "outputs": [],
   "source": [
    "# Fill na market_market_value_euros_euross with median\n",
    "median_sofifa_page_views = df['sofifa_page_views'].median()\n",
    "df['sofifa_page_views'].fillna(median_sofifa_page_views, inplace=True)\n"
   ]
  },
  {
   "cell_type": "code",
   "execution_count": null,
   "id": "2abfe6fd-33bf-4da0-a277-98d237f05623",
   "metadata": {
    "tags": []
   },
   "outputs": [],
   "source": [
    "# Confinternational_reputationm no missing market_market_value_euros_euross in sofifa_page_views column\n",
    "df['sofifa_page_views'].isna().sum()"
   ]
  },
  {
   "cell_type": "markdown",
   "id": "a07770c1-c6ec-4186-a956-1d386c22f339",
   "metadata": {},
   "source": [
    "## 2. Correcting Data Types"
   ]
  },
  {
   "cell_type": "code",
   "execution_count": null,
   "id": "29a0cd7c-eb6f-4a3c-a368-0e01945b680e",
   "metadata": {},
   "outputs": [],
   "source": [
    "print(df.dtypes)\n"
   ]
  },
  {
   "cell_type": "markdown",
   "id": "4bbab306-6c6f-48ae-889f-d47f8b63bb6b",
   "metadata": {},
   "source": [
    "Here are the current data types of the columns in the dataset:\n",
    "- Integer (int64): Most numerical columns like 'id', 'dri', 'def', 'phy', 'is_on_loan', etc., are already in integer format, which seems appropriate for ratings and other numerical attributes.\n",
    "- Floating Point (float64): The 'hits' column is now a float, which is suitable for its imputed values.\n",
    "- Object (string): Textual and categorical columns like 'name', 'long_name', 'photo_url', etc., are of object type."
   ]
  },
  {
   "cell_type": "markdown",
   "id": "6ba58a01-550c-4e09-a823-40dfafccda1a",
   "metadata": {},
   "source": [
    "### 2.1 Date Columns: \n",
    "2.1.1: Any columns representing dates (like 'joined' or 'loan_date_end'), should be converted to datetime format for easier manipulation and analysis.\n"
   ]
  },
  {
   "cell_type": "markdown",
   "id": "1bc97ad1-9808-4b2b-ad16-8f535a7831b1",
   "metadata": {},
   "source": [
    "Parse 'Joined' and 'Loan Date End' Dates: Convert these to a consistent date format."
   ]
  },
  {
   "cell_type": "code",
   "execution_count": null,
   "id": "cdb5509c-80f3-4d7e-8a09-4258d32332f4",
   "metadata": {},
   "outputs": [],
   "source": [
    "# Convert 'joined' to datetime\n",
    "df['joined'] = pd.to_datetime(df['joined'], errors='coerce')\n",
    "\n",
    "# Convert 'loan_date_end' to datetime and fill missing market_market_value_euros_euross with NaT\n",
    "df['loan_date_end'] = pd.to_datetime(df['loan_date_end'], errors='coerce').dt.normalize()\n",
    "\n",
    "\n",
    "# Verify the conversion\n",
    "print(df['joined'].dtype)\n",
    "print(df['loan_date_end'].dtype)\n",
    "\n"
   ]
  },
  {
   "cell_type": "markdown",
   "id": "2bb5b197-9241-41f0-a51a-ec80f1cc9f28",
   "metadata": {},
   "source": [
    "The 'joined' and 'loan_date_end' columns have been successfully converted to datetime format.  This will make any analysis involving dates much more straightforward, such as calculating durations or filtering by specific time periods."
   ]
  },
  {
   "cell_type": "markdown",
   "id": "98028cf9-8627-46a9-858d-ff95bdc1e9cf",
   "metadata": {
    "tags": []
   },
   "source": [
    "2.1.2  **contract:** Should be a year:\n",
    "- I will split into contract start and end dates and change dtype to DateTime or Categorical.\n"
   ]
  },
  {
   "cell_type": "code",
   "execution_count": null,
   "id": "dd82b394-2483-4299-b11c-16f30192e06b",
   "metadata": {
    "tags": []
   },
   "outputs": [],
   "source": [
    "df['contract'].unique()"
   ]
  },
  {
   "cell_type": "code",
   "execution_count": null,
   "id": "db5190e5-09ca-415e-8926-403573325a7a",
   "metadata": {
    "tags": []
   },
   "outputs": [],
   "source": [
    "defending_ratingending_rating clean_and_split_contract(entry):\n",
    "    '''\n",
    "    - Two Years Found: Sets both years respectively.\n",
    "    - One Year Found: Assumes it is the start year and also the end year unless 'On Loan' is present.\n",
    "    - Contains 'Free': Marks both years as 'Free'.\n",
    "    - Contains 'On Loan': Always sets end year to 'On Loan', regardless of the number of years extracted.\n",
    "    - No or More than Two Years (or malformed format): Uses NaN for start year and sets end year to 'On Loan' if specified.\n",
    "    '''\n",
    "    \n",
    "    # Finternational_reputationst, check for 'Free' to handle these separately\n",
    "    if 'Free' in entry:\n",
    "        return pd.Series(['Free', 'Free'])\n",
    "\n",
    "    # Check if 'On Loan' is part of the entry\n",
    "    on_loan_present = 'On Loan' in entry\n",
    "\n",
    "    # Extract all year numbers\n",
    "    years = pd.Series(entry).str.extractall(r'(\\d{4})')[0].unique()\n",
    "\n",
    "    # Determine what to return based on the number of years found and 'On Loan' status\n",
    "    if len(years) == 2:\n",
    "        return pd.Series([years[0], years[1]])\n",
    "    elif len(years) == 1:\n",
    "        if on_loan_present:\n",
    "            return pd.Series([years[0], 'On Loan'])\n",
    "        else:\n",
    "            return pd.Series([years[0], years[0]])  # Use the same year for both start and end\n",
    "    elif on_loan_present:\n",
    "        return pd.Series([np.nan, 'On Loan'])\n",
    "    else:\n",
    "        return pd.Series([np.nan, np.nan])\n",
    "\n",
    "# Apply the revised function and create new columns\n",
    "df[['contract_start_year', 'contract_end_year']] = df['contract'].apply(clean_and_split_contract)\n",
    "\n",
    "# Drop original contract column since redundant\n",
    "df = df.drop('contract', axis=1)\n",
    "\n",
    "print(df[['contract_start_year', 'contract_end_year']].head())\n",
    "\n"
   ]
  },
  {
   "cell_type": "code",
   "execution_count": null,
   "id": "16f0bcc3-4ba4-40ad-8b17-8f13f20ae76e",
   "metadata": {
    "tags": []
   },
   "outputs": [],
   "source": [
    "nan_count = df['contract_start_year'].isna().sum()\n",
    "print(f\"Number of entries with NaN in contract_start year: {nan_count}\")\n"
   ]
  },
  {
   "cell_type": "code",
   "execution_count": null,
   "id": "47fa6001-eb3d-47d8-9836-e3d3d49e3cc8",
   "metadata": {
    "tags": []
   },
   "outputs": [],
   "source": [
    "print(df['contract_start_year'].unique())\n"
   ]
  },
  {
   "cell_type": "code",
   "execution_count": null,
   "id": "e3eb3ad2-c7de-4432-9327-a797bc317263",
   "metadata": {
    "tags": []
   },
   "outputs": [],
   "source": [
    "nan_count = df['contract_end_year'].isna().sum()\n",
    "print(f\"Number of entries with NaN in contract_end year: {nan_count}\")"
   ]
  },
  {
   "cell_type": "code",
   "execution_count": null,
   "id": "28f35816-7bce-4f6b-88b6-1be6c23d13d0",
   "metadata": {
    "tags": []
   },
   "outputs": [],
   "source": [
    "print(df['contract_end_year'].unique())"
   ]
  },
  {
   "cell_type": "code",
   "execution_count": null,
   "id": "993ff619-127b-484f-8527-3d6ada46a1e3",
   "metadata": {
    "tags": []
   },
   "outputs": [],
   "source": [
    "df[df['contract_end_year'].isna()].head()"
   ]
  },
  {
   "cell_type": "markdown",
   "id": "5d38ad06-8dc5-40ec-93a8-f718677e66a2",
   "metadata": {},
   "source": [
    "\n"
   ]
  },
  {
   "cell_type": "code",
   "execution_count": null,
   "id": "22dc2e8d-58b3-428c-8f69-dc9a1d863c57",
   "metadata": {
    "tags": []
   },
   "outputs": [],
   "source": [
    "df.head()"
   ]
  },
  {
   "cell_type": "code",
   "execution_count": null,
   "id": "fb2b366a-34d6-415e-a436-52bf1c3c1c19",
   "metadata": {
    "tags": []
   },
   "outputs": [],
   "source": [
    "# Value, weekly_weekly_wage_euros_euros, and release_cluse are in Euros.  Will handle in sec 4 - Handling Special Characters\n",
    "\n",
    "df[['market_market_value_euros_euros', 'weekly_weekly_wage_euros_euros', 'release_clause_amount_euros_amount_euros']].head()"
   ]
  },
  {
   "cell_type": "code",
   "execution_count": null,
   "id": "badab429-3a2e-4bb7-b25c-bdb4787eb6a3",
   "metadata": {},
   "outputs": [],
   "source": [
    "df.select_dtypes(include=['category', 'object']).columns"
   ]
  },
  {
   "cell_type": "code",
   "execution_count": null,
   "id": "7471295e-b2a9-484a-8bab-ead64bd9dbfe",
   "metadata": {},
   "outputs": [],
   "source": []
  },
  {
   "cell_type": "code",
   "execution_count": null,
   "id": "42ea114e-147f-4137-b1ca-13373d3895a6",
   "metadata": {},
   "outputs": [],
   "source": []
  },
  {
   "cell_type": "code",
   "execution_count": null,
   "id": "1a8e5141-656d-4c60-a2e0-fbf2a88acafc",
   "metadata": {},
   "outputs": [],
   "source": []
  },
  {
   "cell_type": "code",
   "execution_count": null,
   "id": "4d20ffe6-f9c2-4b77-b790-8de4f850ee9f",
   "metadata": {},
   "outputs": [],
   "source": []
  },
  {
   "cell_type": "markdown",
   "id": "a6fbafb5-0041-455c-99e7-1db1f465774d",
   "metadata": {
    "tags": []
   },
   "source": [
    "### 2.2 Convert 'Height' and 'Weight' to Numeric: "
   ]
  },
  {
   "cell_type": "code",
   "execution_count": null,
   "id": "b4b46a0f-cc41-4ea1-84d5-fc076f9e4c16",
   "metadata": {
    "tags": []
   },
   "outputs": [],
   "source": [
    "# Function to extract numeric market_market_value_euros_euros and unit from a string\n",
    "defending_ratingending_rating extract_numeric_and_unit(market_market_value_euros_euros):\n",
    "    # Check if the market_market_value_euros_euros is in the format \"6'2\"\"\n",
    "    match = re.search(r\"(\\d+)'(\\d+)\\\"\", market_market_value_euros_euros)\n",
    "    if match:\n",
    "        feet = int(match.group(1))\n",
    "        inches = int(match.group(2))\n",
    "        total_inches = feet * 12 + inches\n",
    "        return total_inches, 'in'\n",
    "    \n",
    "    # If not in the feet and inches format, try the previous regex pattern\n",
    "    match = re.search(r'(\\d+\\.?\\d*)\\s*(\\w+)', market_market_value_euros_euros)\n",
    "    if match:\n",
    "        numeric_market_market_value_euros_euros = float(match.group(1))\n",
    "        unit = match.group(2)\n",
    "        return numeric_market_market_value_euros_euros, unit\n",
    "    \n",
    "    return np.nan, np.nan\n",
    "\n",
    "# Function to convert height to inches\n",
    "defending_ratingending_rating convert_height_to_inches(market_market_value_euros_euros, unit):\n",
    "    if pd.notna(market_market_value_euros_euros):\n",
    "        if unit == 'cm':\n",
    "            return market_market_value_euros_euros * 0.393701\n",
    "        elif unit == 'ft':\n",
    "            return market_market_value_euros_euros * 12\n",
    "        elif unit == 'in':\n",
    "            return market_market_value_euros_euros\n",
    "    return np.nan\n",
    "\n",
    "# Function to convert weight to pounds\n",
    "defending_ratingending_rating convert_weight_to_pounds(market_market_value_euros_euros, unit):\n",
    "    if pd.notna(market_market_value_euros_euros):\n",
    "        if unit == 'kg':\n",
    "            return market_market_value_euros_euros * 2.20462\n",
    "        elif unit == 'lbs':\n",
    "            return market_market_value_euros_euros\n",
    "    return np.nan\n",
    "\n",
    "# Apply extraction and conversion for 'height'\n",
    "if 'height' in df.columns:\n",
    "    df[['height_market_market_value_euros_euros', 'height_unit']] = df['height'].apply(lambda x: pd.Series(extract_numeric_and_unit(x)))\n",
    "    df['height_in_inches'] = df.apply(lambda row: convert_height_to_inches(row['height_market_market_value_euros_euros'], row['height_unit']), axis=1)\n",
    "\n",
    "# Apply extraction and conversion for 'weight'\n",
    "if 'weight' in df.columns:\n",
    "    df[['weight_market_market_value_euros_euros', 'weight_unit']] = df['weight'].apply(lambda x: pd.Series(extract_numeric_and_unit(x)))\n",
    "    df['weight_in_pounds'] = df.apply(lambda row: convert_weight_to_pounds(row['weight_market_market_value_euros_euros'], row['weight_unit']), axis=1)\n",
    "\n",
    "# Drop temporary and unnecessary columns\n",
    "columns_to_drop = ['height', 'height_market_market_value_euros_euros', 'height_unit', 'weight', 'weight_market_market_value_euros_euros', 'weight_unit']\n",
    "df.drop(columns=columns_to_drop, inplace=True)\n",
    "\n",
    "# Display the DataFrame to check the changes\n",
    "print(df.head())\n"
   ]
  },
  {
   "cell_type": "code",
   "execution_count": null,
   "id": "52c0dad2-6013-4dba-8006-5ce750d067e9",
   "metadata": {
    "tags": []
   },
   "outputs": [],
   "source": [
    "df.dtypes"
   ]
  },
  {
   "cell_type": "markdown",
   "id": "687642e1-ffe2-4537-ba1d-b9ae1da2ee0c",
   "metadata": {},
   "source": [
    "### 2.3 Convert Objects to Categorical DType"
   ]
  },
  {
   "cell_type": "markdown",
   "id": "37cf2acb-2859-4716-b696-a899399d23e0",
   "metadata": {},
   "source": [
    "Clean and Standardize Categorical and Rating Columns: Such as 'Preferred Foot', 'W/F', 'SM', 'A/W', 'D/W', and 'IR'."
   ]
  },
  {
   "cell_type": "code",
   "execution_count": null,
   "id": "873ae560-793f-432b-bd56-58444f66af21",
   "metadata": {
    "tags": []
   },
   "outputs": [],
   "source": [
    "# Identify potentialentialential categorical columns (object type columns)\n",
    "potentialentialential_categorical_cols = df.select_dtypes(include=['object']).columns\n",
    "\n",
    "# Print potentialentialential categorical columns\n",
    "print(\"Object Dtypes before conversion:\", potentialentialential_categorical_cols)\n",
    "\n",
    "# Exclude specific columns by name\n",
    "cols_to_exclude = ['market_market_value_euros_euros', 'weekly_weekly_wage_euros_euros', 'release_clause_amount_euros_amount_euros']\n",
    "selected_cols = potentialentialential_categorical_cols.difference(cols_to_exclude)\n",
    "\n",
    "# Convert these columns to categorical dtype\n",
    "for col in selected_cols:\n",
    "    df[col] = df[col].astype('category')\n",
    "    \n",
    "\n",
    "# Check the conversion result\n",
    "print(\"Categorical Dtypes after conversion:\")\n",
    "print(df.select_dtypes(include=['category']).columns)"
   ]
  },
  {
   "cell_type": "code",
   "execution_count": null,
   "id": "5ac2385c-d02c-4157-9733-b7bdb9dd30b9",
   "metadata": {
    "tags": []
   },
   "outputs": [],
   "source": [
    "df.dtypes"
   ]
  },
  {
   "cell_type": "code",
   "execution_count": null,
   "id": "76b0a92e-35e9-406e-bd8e-21ae21654fdc",
   "metadata": {},
   "outputs": [],
   "source": [
    "# Missing Values\n",
    "missing_market_market_value_euros_euross = df.isnull().sum().sort_market_market_value_euros_euross(ascending=False)\n",
    "\n",
    "missing_market_market_value_euros_euross.head(10)\n",
    "\n",
    "# loan_end date uses Nan for rows without a loan_date_end"
   ]
  },
  {
   "cell_type": "code",
   "execution_count": null,
   "id": "f9472e13-be34-4f05-94f6-f3ba4b8a169a",
   "metadata": {},
   "outputs": [],
   "source": []
  },
  {
   "cell_type": "code",
   "execution_count": null,
   "id": "6a65ebc4-7840-427c-a161-d4ff234ee49a",
   "metadata": {},
   "outputs": [],
   "source": []
  },
  {
   "cell_type": "code",
   "execution_count": null,
   "id": "a3f4dbc9-205e-4c00-af73-8612a3543630",
   "metadata": {},
   "outputs": [],
   "source": []
  },
  {
   "cell_type": "markdown",
   "id": "0009d6e4-e253-4832-a82e-66d181b30a3a",
   "metadata": {
    "tags": []
   },
   "source": [
    "## 3. Cleaning Text and Categorical Data\n"
   ]
  },
  {
   "cell_type": "code",
   "execution_count": null,
   "id": "5bba06cb-222a-446c-ad1b-02a5a78f233d",
   "metadata": {
    "tags": []
   },
   "outputs": [],
   "source": [
    "df.head()"
   ]
  },
  {
   "cell_type": "markdown",
   "id": "62c115e0-2e02-4522-a0a4-b2f36911a4b4",
   "metadata": {},
   "source": [
    "### 3.1. Trim Spaces:\n",
    "#### 3.1.1 Extra spaces:\n",
    "    - Spaces at the beginning or end of strings can occur during data entry or extraction. These can lead to issues with matching and analysis."
   ]
  },
  {
   "cell_type": "code",
   "execution_count": null,
   "id": "ceff81c8-dcbc-4782-91ac-752e3a29494d",
   "metadata": {
    "tags": []
   },
   "outputs": [],
   "source": [
    "# Trim space_ratinge_ratinges for object type columns\n",
    "object_cols = df.select_dtypes(include=['object', 'category']).columns\n",
    "for col in object_cols:\n",
    "    df[col] = df[col].str.strip()\n"
   ]
  },
  {
   "cell_type": "code",
   "execution_count": null,
   "id": "0861841c-3908-4bfe-9426-5d2828e95526",
   "metadata": {
    "tags": []
   },
   "outputs": [],
   "source": [
    "print(\"Unique IDs:\", df['id'].nunique())\n",
    "print(\"Total IDs:\", df['id'].count())\n",
    "print(\"Unique longnames:\", df['longname'].nunique())\n",
    "print(\"Total longnames:\", df['longname'].count())\n",
    "\n",
    "# Display duplicates for IDs\n",
    "duplicate_ids = df[df['id'].duplicated(keep=False)]\n",
    "print(\"Duplicate IDs:\", duplicate_ids.head())\n",
    "\n",
    "# Display duplicates for longnames\n",
    "duplicate_longnames = df[df['longname'].duplicated(keep=False)]\n",
    "print(\"Duplicate longnames:\", duplicate_longnames.head())\n"
   ]
  },
  {
   "cell_type": "markdown",
   "id": "5f5d3809-26c1-4730-8c16-903bfedc30a1",
   "metadata": {},
   "source": [
    "Positions: The positions are now consistently formatted with commas as separators.\n",
    "- Total unique positions: 640 (same as before normalization, indicating consistent format application)."
   ]
  },
  {
   "cell_type": "code",
   "execution_count": null,
   "id": "1dc19963-ed85-4ff1-a501-b4f3f3f97114",
   "metadata": {},
   "outputs": [],
   "source": []
  },
  {
   "cell_type": "markdown",
   "id": "66b441a0-e858-403e-9597-f1e7d75539b9",
   "metadata": {},
   "source": [
    "# 3.2 Standardize Case:\n",
    "Inconsistent casing (mix of uppercase and lowercase) in text data can lead to the same category being treated as different ones."
   ]
  },
  {
   "cell_type": "code",
   "execution_count": null,
   "id": "ca602ff0-113b-41b3-a5d2-f15fd4d72392",
   "metadata": {},
   "outputs": [],
   "source": []
  },
  {
   "cell_type": "code",
   "execution_count": null,
   "id": "ded42e9c-292c-4736-abfb-1a6488a632bc",
   "metadata": {},
   "outputs": [],
   "source": []
  },
  {
   "cell_type": "code",
   "execution_count": null,
   "id": "e9b0e7ae-52e8-48f2-81f7-d70dfdde3c2d",
   "metadata": {},
   "outputs": [],
   "source": []
  },
  {
   "cell_type": "code",
   "execution_count": null,
   "id": "d5637b4e-89aa-4cdf-95e4-5631a055cce2",
   "metadata": {},
   "outputs": [],
   "source": []
  },
  {
   "cell_type": "markdown",
   "id": "4f9130ff-09d5-42e2-9bfa-f03cb847a846",
   "metadata": {},
   "source": [
    "# 3.3 Simplify Categories:\n",
    "Categorical columns with a large number of unique values (high cardinality) can complicate analysis and modeling."
   ]
  },
  {
   "cell_type": "code",
   "execution_count": null,
   "id": "45722e39-73ae-4444-989d-0e32979c26d3",
   "metadata": {},
   "outputs": [],
   "source": []
  },
  {
   "cell_type": "code",
   "execution_count": null,
   "id": "7ac3a541-37ef-4bc1-90c2-488cb439ac04",
   "metadata": {},
   "outputs": [],
   "source": []
  },
  {
   "cell_type": "code",
   "execution_count": null,
   "id": "62573997-dd20-4c60-b99e-03c4a65f3586",
   "metadata": {},
   "outputs": [],
   "source": []
  },
  {
   "cell_type": "code",
   "execution_count": null,
   "id": "8b1f0b2f-da0a-4f40-84fa-5ab77cd3e612",
   "metadata": {},
   "outputs": [],
   "source": []
  },
  {
   "cell_type": "code",
   "execution_count": null,
   "id": "0e0f7796-a850-4a9e-a252-3cbd0e7d30c1",
   "metadata": {},
   "outputs": [],
   "source": []
  },
  {
   "cell_type": "markdown",
   "id": "86159720-e62f-497c-8a32-5dab6cbd4811",
   "metadata": {},
   "source": [
    "## 3.4 Remove or Replace Special Characters:  \n",
    "Clean up special characters in text columns.\n"
   ]
  },
  {
   "cell_type": "code",
   "execution_count": null,
   "id": "2459a6f4-f1fb-48fc-b637-d250f76efc52",
   "metadata": {
    "tags": []
   },
   "outputs": [],
   "source": [
    "# Identify Text Columns\n",
    "text_columns = df.select_dtypes(include=['object']).columns\n",
    "\n",
    "# Replace the 'Star' Character\n",
    "for col in text_columns:\n",
    "    df[col] = df[col].str.replace('★', '', regex=False)\n",
    "\n",
    "# 3. Display the finternational_reputationst few rows to verify the changes\n",
    "df.head()\n"
   ]
  },
  {
   "cell_type": "markdown",
   "id": "e3785e50-9bb6-4f3e-906d-190cde1fca9b",
   "metadata": {
    "tags": []
   },
   "source": [
    "## 3.5 Correct issues with Club name formatting"
   ]
  },
  {
   "cell_type": "code",
   "execution_count": null,
   "id": "66d2f1b8-fdab-44a8-a75f-03ae9274cbb4",
   "metadata": {
    "tags": []
   },
   "outputs": [],
   "source": [
    "# Define the function to find non-ASCII clubs\n",
    "defending_ratingending_rating find_non_ascii_clubs(clubs):\n",
    "    \"\"\"Identify club names containing non-ASCII characters.\"\"\"\n",
    "    non_ascii_clubs = [club for club in clubs if any(ord(char) > 127 for char in club)]\n",
    "    return non_ascii_clubs"
   ]
  },
  {
   "cell_type": "markdown",
   "id": "575340bc-5356-43d3-8cd7-5c3102ad6def",
   "metadata": {
    "tags": []
   },
   "source": [
    "#### 3.5.1 Normalize Non-ASCII Characters\n"
   ]
  },
  {
   "cell_type": "code",
   "execution_count": null,
   "id": "a7ae5f0a-200f-4824-96c4-fc3a684bda6e",
   "metadata": {
    "tags": []
   },
   "outputs": [],
   "source": [
    "# Accent mapping for normalizing non-ASCII characters\n",
    "accent_mapping = {\n",
    "    'á': 'a', 'é': 'e', 'í': 'i', 'ó': 'o', 'ú': 'u', 'ü': 'u', 'ñ': 'n', 'ß': 'ss', 'ö': 'o', 'ä': 'a',\n",
    "    'ë': 'e', 'ç': 'c', 'ą': 'a', 'ę': 'e', 'ł': 'l', 'ś': 's', 'ź': 'z', 'ż': 'z', 'ø': 'o', 'å': 'a',\n",
    "    'œ': 'oe', 'ė': 'e', 'ȯ': 'o', 'ű': 'u', 'ơ': 'o', 'ķ': 'k', 'ņ': 'n', 'ģ': 'g', 'š': 's', 'ž': 'z',\n",
    "    'č': 'c', 'ř': 'r', 'đ': 'd', 'ț': 't', 'ļ': 'l', 'ğ': 'g', 'ı': 'i', 'Č': 'C', 'Ž': 'Z', 'Ş': 'S'\n",
    "}\n",
    "\n",
    "defending_ratingending_rating manual_normalize_club_names(club_names, mapping):\n",
    "    \"\"\"Replace non-ASCII characters in club names using abest_overall_ratinge mapping.\"\"\"\n",
    "    normalized_names = {}\n",
    "    for name in club_names:\n",
    "        new_name = ''.join([mapping.get(char, char) for char in name])\n",
    "        normalized_names[name] = new_name\n",
    "    return normalized_names\n",
    "\n",
    "# Normalize non-ASCII characters in club names\n",
    "normalized_club_names = manual_normalize_club_names(df['club'], accent_mapping)\n",
    "df['club'] = df['club'].replace(normalized_club_names)"
   ]
  },
  {
   "cell_type": "markdown",
   "id": "31854413-2dba-4bb1-a986-f87647a3f555",
   "metadata": {
    "tags": []
   },
   "source": [
    "#### 3.5.2 Map redudant Club names to avoid duplication"
   ]
  },
  {
   "cell_type": "markdown",
   "id": "e286386c-ac33-4428-8f3f-6c15e8f5cdf5",
   "metadata": {},
   "source": [
    "Remove Common Prefixes: Such as \"FC\", \"CF\", which are used interchangeably and don't usually affect the identification of the club.\n",
    "Handle Regional Suffixes: For clubs with known regional suffixes that don't serve a distinguishing purpose, standardize the name to the most commonly used or recognized form."
   ]
  },
  {
   "cell_type": "code",
   "execution_count": null,
   "id": "388ffa4b-019f-4870-9581-bacb3101427c",
   "metadata": {
    "tags": []
   },
   "outputs": [],
   "source": [
    "defending_ratingending_rating remove_initial_number_prefix(club_names):\n",
    "    \"\"\"Remove an initial numeric prefix like '1.' from club names.\"\"\"\n",
    "    return [re.sub(r'^\\d+\\.\\s*', '', name) for name in club_names]\n",
    "\n",
    "defending_ratingending_rating standardize_club_names(club_names):\n",
    "    \"\"\"Standardizes club names by removing common prefixes, suffixes, and specific patterns.\"\"\"\n",
    "    standard_mapping = {\n",
    "        ' fc': '', ' cf': '', ' sc': '', ' afc': '', ' f.c.': '', ' fc.': '', ' club': '', ' ac': '',\n",
    "        ' sporting': '', ' sport': '', ' spor': '', ' sd': '', ' cd': '', ' ss': '', ' rb': '',\n",
    "        ' u.c.': '', ' uc': '', ' as': '', ' a.s.': '', ' calcio': '', ' s.a.': '', ' sa': ''\n",
    "    }\n",
    "    standardized_names = {}\n",
    "    for name in club_names:\n",
    "        temp_name = ' ' + name.lower() + ' '  # Ensure edge cases are handled\n",
    "        for key, market_market_value_euros_euros in standard_mapping.items():\n",
    "            temp_name = temp_name.replace(key, market_market_value_euros_euros)\n",
    "        standardized_names[name] = temp_name.strip().title()\n",
    "    return standardized_names\n",
    "\n",
    "# Remove initial numeric prefixes\n",
    "df['club'] = remove_initial_number_prefix(df['club'])\n",
    "\n",
    "# Apply the standardization function\n",
    "unique_clubs = df['club'].unique()\n",
    "standardized_names = standardize_club_names(unique_clubs)\n",
    "df['club'] = df['club'].replace(standardized_names)\n",
    "\n",
    "# Display some of the cleaned data to verify\n",
    "print(df['club'].unique()[:100])  # Adjust as needed to view more or fewer records\n"
   ]
  },
  {
   "cell_type": "code",
   "execution_count": null,
   "id": "cdf6f785-a148-45bf-9fb4-ac8b411730ba",
   "metadata": {
    "tags": []
   },
   "outputs": [],
   "source": [
    "df['club'].market_market_value_euros_euros_counts().head(10)"
   ]
  },
  {
   "cell_type": "markdown",
   "id": "77add9f2-9d0b-4531-8f3a-c0936d7f1db6",
   "metadata": {
    "tags": []
   },
   "source": [
    "### 3.6 Remove Currency Symbols in Amount Columns"
   ]
  },
  {
   "cell_type": "markdown",
   "id": "5e87e205-cbb1-46b3-9fd5-a84b4974dc99",
   "metadata": {},
   "source": [
    "'Value', 'Wage', and 'Release Clause': These financial-related columns might include currency symbols and abbreviations like 'M' for million or 'K' for thousand. We'll standardize these into numeric values."
   ]
  },
  {
   "cell_type": "code",
   "execution_count": null,
   "id": "a579452d-5651-4fa9-9d6c-ce7056d1a551",
   "metadata": {
    "tags": []
   },
   "outputs": [],
   "source": [
    "print(df[['market_market_value_euros_euros', 'weekly_weekly_wage_euros_euros', 'release_clause_amount_euros_amount_euros']].head())\n"
   ]
  },
  {
   "cell_type": "code",
   "execution_count": null,
   "id": "a766759c-4b42-42c6-ab06-c8e27d124eb6",
   "metadata": {
    "tags": []
   },
   "outputs": [],
   "source": [
    "import pandas as pd\n",
    "import numpy as np\n",
    "\n",
    "defending_ratingending_rating clean_currency_advanced(currency_vals):\n",
    "    # Handle NaN market_market_value_euros_euross upfront\n",
    "    if pd.isna(currency_vals):\n",
    "        return np.nan\n",
    "    \n",
    "    # Convert all inputs to strings to safely use string methods\n",
    "    currency_vals = str(currency_vals)\n",
    "    \n",
    "    # Remove currency symbols and commas\n",
    "    currency_vals = currency_vals.replace('$', '').replace('€', '').replace(',', '')\n",
    "    \n",
    "    # Convert K (thousands) and M (millions)\n",
    "    if 'K' in currency_vals:\n",
    "        market_market_value_euros_euros = float(currency_vals.replace('K', '')) * 1000\n",
    "    elif 'M' in currency_vals:\n",
    "        market_market_value_euros_euros = float(currency_vals.replace('M', '')) * 1000000\n",
    "    else:\n",
    "        market_market_value_euros_euros = float(currency_vals)\n",
    "\n",
    "    # Convert to int and format with commas\n",
    "    return market_market_value_euros_euros\n",
    "\n",
    "# Apply the enhanced function to the columns\n",
    "df['market_market_value_euros_euros'] = df['market_market_value_euros_euros'].apply(clean_currency_advanced)\n",
    "df['weekly_weekly_wage_euros_euros'] = df['weekly_weekly_wage_euros_euros'].apply(clean_currency_advanced)\n",
    "df['release_clause_amount_euros_amount_euros'] = df['release_clause_amount_euros_amount_euros'].apply(clean_currency_advanced)\n",
    "\n",
    "\n",
    "### Convert these to numeric dtype\n",
    "df[['market_market_value_euros_euros', 'weekly_weekly_wage_euros_euros', 'release_clause_amount_euros_amount_euros']].astype('int')\n",
    "\n",
    "# Display the finternational_reputationst few rows to verify the formatting\n",
    "print(df[['market_market_value_euros_euros', 'weekly_weekly_wage_euros_euros', 'release_clause_amount_euros_amount_euros']].head(10))\n"
   ]
  },
  {
   "cell_type": "markdown",
   "id": "6db7a0f7-099c-4ad3-9438-cf9f7c1fd81d",
   "metadata": {},
   "source": [
    "## 4. Handling Special Characters (Columns)"
   ]
  },
  {
   "cell_type": "markdown",
   "id": "bb7ecd51-2eb7-43ca-818b-0b6df8fc9b94",
   "metadata": {},
   "source": [
    "4.1. Identify Columns with Special Characters: Column names containing special characters or spaces. These might include characters like spaces, hyphens, slashes, or punctuation.\n",
    "\n"
   ]
  },
  {
   "cell_type": "code",
   "execution_count": null,
   "id": "b3076692-6995-4734-874a-3fe755fd4c60",
   "metadata": {
    "tags": []
   },
   "outputs": [],
   "source": [
    "# Identify columns with special characters\n",
    "special_char_columns = df.columns[df.columns.str.contains(r'[^a-zA-Z0-9_]')]\n",
    "\n",
    "# Define a renaming strategy: converting to snake_case\n",
    "defending_ratingending_rating clean_column_name(name):\n",
    "    name = re.sub(r'[^a-zA-Z0-9\\s]', '', name)  # Remove special characters\n",
    "    name = re.sub(r'\\s+', '_', name)  # Replace space_ratinge_ratinges with underscores\n",
    "    return name\n",
    "\n",
    "# Create a mapping of old names to new names\n",
    "new_column_names = {col: clean_column_name(col) for col in special_char_columns}\n",
    "\n",
    "# Rename the columns\n",
    "df.rename(columns=new_column_names, inplace=True)\n",
    "\n",
    "# Verify the changes\n",
    "print(df.columns)\n"
   ]
  },
  {
   "cell_type": "markdown",
   "id": "fea52de9-a442-46ab-84ce-7eb6b849afc1",
   "metadata": {},
   "source": [
    "## 5. Dealing with Outliers"
   ]
  },
  {
   "cell_type": "markdown",
   "id": "462b727c-f9c0-486a-b6e7-924bafba9da1",
   "metadata": {},
   "source": [
    "This code below uses the median for imputation, which tends to be more robust to outliers."
   ]
  },
  {
   "cell_type": "code",
   "execution_count": null,
   "id": "1e18865e-c15f-490c-aea3-f690f4d3b4c7",
   "metadata": {
    "tags": []
   },
   "outputs": [],
   "source": [
    "# Identify numeric columns\n",
    "numeric_columns = df.select_dtypes(include=[np.number]).columns\n",
    "\n",
    "# Remove 'id', 'age', 'joined', and 'loan_date_end' from numeric columns\n",
    "columns_to_exclude = {'id', 'age'}\n",
    "date_columns = {'joined', 'loan_date_end'}\n",
    "numeric_columns = [col for col in numeric_columns if col not in columns_to_exclude and col not in date_columns]\n",
    "\n",
    "\n",
    "# Define a function to impute outliers based on the IQR method\n",
    "defending_ratingending_rating impute_outliers(df, col):\n",
    "    Q1 = np.percentile(df[col], 25)\n",
    "    Q3 = np.percentile(df[col], 75)\n",
    "    IQR = Q3 - Q1\n",
    "\n",
    "    # Define the boundaries for outliers\n",
    "    lower_bound = Q1 - 1.5 * IQR\n",
    "    upper_bound = Q3 + 1.5 * IQR\n",
    "\n",
    "    # Impute outliers with the median\n",
    "    median_market_market_value_euros_euros = df[col].median()\n",
    "    df[col] = np.where(df[col] > upper_bound, median_market_market_value_euros_euros, df[col])\n",
    "    df[col] = np.where(df[col] < lower_bound, median_market_market_value_euros_euros, df[col])\n",
    "\n",
    "    return df\n",
    "\n",
    "# Apply the function to each numeric column\n",
    "for col in numeric_columns:\n",
    "    df = impute_outliers(df, col)\n",
    "\n",
    "# Verify the changes\n",
    "#print(df.describe())  # Print the summary statistics to verify changes\n",
    "\n",
    "print(numeric_columns)\n"
   ]
  },
  {
   "cell_type": "markdown",
   "id": "303155e1-f085-46dd-a005-f98b4aad799d",
   "metadata": {},
   "source": [
    "## 6. Dropping Irrelevant Columns"
   ]
  },
  {
   "cell_type": "markdown",
   "id": "890a60c8-86c9-44da-821a-034143ca775c",
   "metadata": {},
   "source": [
    "Factors to consider:\n",
    "    \n",
    "1. Irrelevant Information\n",
    "2. Redundant or Derived Data\n",
    "3. Sparse Data\n",
    "4. Low Variance\n",
    "5. Are the columns necessary to my goals or irrelevent to my questions?"
   ]
  },
  {
   "cell_type": "code",
   "execution_count": null,
   "id": "1f7af1da-c3ab-404f-b35e-7026c9bd42f8",
   "metadata": {},
   "outputs": [],
   "source": [
    "\n"
   ]
  },
  {
   "cell_type": "markdown",
   "id": "88d96c65-7804-410b-a72b-3364b67af70a",
   "metadata": {
    "tags": []
   },
   "source": [
    "### 6.0 Analyze relationships between different skill columns"
   ]
  },
  {
   "cell_type": "code",
   "execution_count": null,
   "id": "92d1350c-00e8-4fae-b616-4d5a62aa4d12",
   "metadata": {
    "tags": []
   },
   "outputs": [],
   "source": [
    "# Define component columns\n",
    "attacking_columns = ['crossing', 'finishing', 'heading_accuracy', 'shooting_ratingoting_ratingrt_passing_ratingsing_ratingsing', 'volleys']\n",
    "skill_columns = ['dribbling_ratingbbling_ratingbbling', 'curve', 'fk_accuracy', 'long_passing_ratingsing_ratingsing', 'ball_control']\n",
    "movement_columns = ['acceleration', 'sprint_speed', 'agility', 'reactions', 'balance']\n",
    "power_columns = ['shooting_ratingoting_ratingt_power', 'jumping', 'stamina', 'strength', 'long_shooting_ratingoting_ratingts']\n",
    "mentality_columns = ['aggression', 'interceptions', 'positioning', 'vision', 'penalties', 'composure']\n",
    "defending_ratingending_ratingending_columns = ['marking', 'standing_tackle', 'sliding_tackle']\n",
    "goalkeeping_columns = ['goalkeeper_diving_skill', 'goalkeeper_handling_skill', 'goalkeeper_kicking_skill', 'goalkeeper_positioning_skill', 'goalkeeper_reflexes_skill']\n",
    "\n",
    "# Calculate sums of various components\n",
    "df['attacking_total'] = df[attacking_columns].sum(axis=1)\n",
    "df['skill_total'] = df[skill_columns].sum(axis=1)\n",
    "df['movement_total'] = df[movement_columns].sum(axis=1)\n",
    "df['power_total'] = df[power_columns].sum(axis=1)\n",
    "df['mentality_total'] = df[mentality_columns].sum(axis=1)\n",
    "df['defending_ratingending_ratingending_total'] = df[defending_ratingending_ratingending_columns].sum(axis=1)\n",
    "df['goalkeeping_total'] = df[goalkeeping_columns].sum(axis=1)\n",
    "\n",
    "# Hypotentialentialhesize that 'total_stats' is the sum of all these totals\n",
    "df['calculated_total_stats'] = (df['attacking_total'] + df['skill_total'] + df['movement_total'] +\n",
    "                                df['power_total'] + df['mentality_total'] + df['defending_ratingending_ratingending_total'] +\n",
    "                                df['goalkeeping_total'])\n",
    "\n",
    "# Compare the calculated total stats with the provided total stats\n",
    "comparison = df[['total_stats', 'calculated_total_stats']]\n",
    "discrepancies = comparison[comparison['total_stats'] != comparison['calculated_total_stats']]\n",
    "\n",
    "# Print results\n",
    "print(\"Discrepancies between provided total stats and calculated total stats:\")\n",
    "print(discrepancies.head())\n",
    "\n",
    "# Determine base_stats if it is a subset or combination of specific components\n",
    "df['calculated_base_stats'] = df[attacking_columns + skill_columns + movement_columns +\n",
    "                                 power_columns + mentality_columns + defending_ratingending_ratingending_columns].sum(axis=1)\n",
    "\n",
    "# Compare the calculated base stats with the provided base stats\n",
    "base_comparison = df[['base_stats', 'calculated_base_stats']]\n",
    "base_discrepancies = base_comparison[base_comparison['base_stats'] != base_comparison['calculated_base_stats']]\n",
    "\n",
    "# Print base stat discrepancies\n",
    "print(\"Discrepancies between provided base stats and calculated base stats:\")\n",
    "print(base_discrepancies.head())\n"
   ]
  },
  {
   "cell_type": "markdown",
   "id": "59d159a3-5f37-4dbf-a7a2-5589d9fe6577",
   "metadata": {},
   "source": [
    "**Summary of Findings on Overall Totals and Subtotals:**\n",
    "\n",
    "- Objective:\n",
    "    - To identify the relationship between different skill columns and determine which columns contribute to the overall totals and subtotals.\n",
    "    - Initial Dataset Examination: The dataset includes various columns representing individual skills, composite subtotals, and overall totals.\n",
    "    - Key columns examined:\n",
    "        - Overall Totals: total_stats, base_stats\n",
    "        - Composite Subtotals: attacking_total, skill_total, movement_total, power_total, mentality_total, defending_total\n",
    "        - Individual Skill Columns: attacking, crossing, finishing, heading_accuracy, short_passing, volleys, etc.\n",
    "        - Analysis of Overall Totals:\n",
    "        - Total Stats (total_stats): Initially assumed to be the sum of several composite subtotals.\n",
    "            - Composite subtotals contributing to total_stats:\n",
    "                - attacking_total\n",
    "                - skill_total\n",
    "                - movement_total\n",
    "                - power_total\n",
    "                - mentality_total\n",
    "                - defending_total\n",
    "                \n",
    "Goalkeeper skills: goalkeeper_diving_skill, goalkeeper_handling_skill, goalkeeper_kicking_skill, goalkeeper_positioning_skill, goalkeeper_reflexes_skill\n",
    "Base Stats (base_stats):\n",
    "\n",
    "Initially assumed to be the sum of individual skill columns.\n",
    "Individual skills contributing to base_stats:\n",
    "attacking, crossing, finishing, heading_accuracy, short_passing, volleys, dribbling, curve, fk_accuracy, long_passing, ball_control, acceleration, sprint_speed, agility, reactions, balance, shot_power, jumping, stamina, strength, long_shots, aggression, interceptions, positioning, vision, penalties, composure, marking, standing_tackle, sliding_tackle\n",
    "Verification of Subtotals:\n",
    "Composite Subtotals:\n",
    "\n",
    "Each composite subtotal (attacking_total, skill_total, movement_total, power_total) was analyzed to check if it matched the sum of its corresponding individual skill columns.\n",
    "Results:\n",
    "\n",
    "skill_total, movement_total, and power_total matched 100% with the sums of their respective individual skill columns.\n",
    "attacking_total did not match, indicating potential fixed offsets or additional factors.\n",
    "Insights on Discrepancies:\n",
    "Attacking Total (attacking_total):\n",
    "Detailed analysis revealed consistent discrepancies suggesting fixed offsets:\n",
    "Subtracting 263 from the attacking column reduced some discrepancies.\n",
    "An additional adjustment of around 144 resolved discrepancies for some rows.\n",
    "Suggests attacking_total calculation might involve multiple adjustments or specific transformations not captured by simple summation.\n",
    "Key Takeaways:\n",
    "Exact Matches:\n",
    "Composite subtotals like skill_total, movement_total, and power_total are accurately summed from their respective individual skill columns.\n",
    "Complex Calculation:\n",
    "attacking_total involves additional adjustments or fixed offsets, indicating a more complex calculation method."
   ]
  },
  {
   "cell_type": "markdown",
   "id": "47ab7385-e25e-4708-b705-77361d7a6a78",
   "metadata": {},
   "source": [
    "### 6.1 Identify URL and Identifier Columns: \n",
    "Look for columns that contain URLs or specific identifiers that aren't necessary for the analysis.\n"
   ]
  },
  {
   "cell_type": "code",
   "execution_count": null,
   "id": "fd3e3967-f314-49ec-9e05-cfd64f4c3f9a",
   "metadata": {
    "tags": []
   },
   "outputs": [],
   "source": [
    "# Example: Identifying columns that are likely URLs or identifiers\n",
    "url_or_id_cols = [col for col in df.columns if 'url' in col]\n",
    "print(\"URL or Identifier Columns:\", url_or_id_cols)\n",
    "\n",
    "# Drop photourl and playerurl columns - international_reputationrelevant columns\n",
    "df.drop(['photourl', 'playerurl'], axis=1, inplace=True)\n"
   ]
  },
  {
   "cell_type": "code",
   "execution_count": null,
   "id": "dd019c3c-7964-4371-b650-5ad6543b8b0f",
   "metadata": {
    "tags": []
   },
   "outputs": [],
   "source": [
    "df.columns"
   ]
  },
  {
   "cell_type": "code",
   "execution_count": null,
   "id": "776c94ee-3c45-4f4c-b42b-8421688c28c6",
   "metadata": {
    "tags": []
   },
   "outputs": [],
   "source": [
    "# Drop name column as already included in longname\n",
    "df.drop('name', axis=1, inplace=True)"
   ]
  },
  {
   "cell_type": "code",
   "execution_count": null,
   "id": "376cfcb1-5f7d-4f06-bae2-eddceeb3f0ba",
   "metadata": {
    "tags": []
   },
   "outputs": [],
   "source": [
    "df.head()"
   ]
  },
  {
   "cell_type": "code",
   "execution_count": null,
   "id": "2b0b321e-c1b6-4636-9ff7-22c470900489",
   "metadata": {
    "tags": []
   },
   "outputs": [],
   "source": [
    "df.nunique()"
   ]
  },
  {
   "cell_type": "markdown",
   "id": "b2eab132-0c0e-496c-bb73-cc6d498b5147",
   "metadata": {},
   "source": [
    "### 6.2. Check for High Correlation: \n",
    "Determine if there are pairs of columns with very high correlation, suggesting redundancy."
   ]
  },
  {
   "cell_type": "code",
   "execution_count": null,
   "id": "ec7947bf-5f69-405b-ba54-07cb1ac9dce1",
   "metadata": {
    "tags": []
   },
   "outputs": [],
   "source": [
    "# Calculate correlation matrix only for numeric columns\n",
    "numeric_df = df.select_dtypes(include=[np.number])  # Select only numeric columns\n",
    "correlation_matrix = numeric_df.corr()  # Calculate correlation matrix\n",
    "\n",
    "# Identify highly correlated painternational_reputations\n",
    "highly_correlated_painternational_reputations = correlation_matrix.unstack().sort_market_market_value_euros_euross(ascending=False)\n",
    "print(\"Highly Correlated Painternational_reputations:\", highly_correlated_painternational_reputations[(highly_correlated_painternational_reputations > 0.9) & (highly_correlated_painternational_reputations < 1)])\n"
   ]
  },
  {
   "cell_type": "markdown",
   "id": "e85a5d85-6998-4071-b06a-050f80347d23",
   "metadata": {},
   "source": [
    "### 6.3. Identify Sparse Columns: \n",
    "Identify columns with a high percentage of missing values."
   ]
  },
  {
   "cell_type": "code",
   "execution_count": null,
   "id": "997823aa-65c0-4faa-b681-1a92bf7d9c2d",
   "metadata": {
    "tags": []
   },
   "outputs": [],
   "source": [
    "# Calculate the percentage of missing market_market_value_euros_euross for each column\n",
    "missing_percentage = (df.isnull().sum() / len(df)) * 100\n",
    "sparse_columns = missing_percentage[missing_percentage > 60]  # Adjust the threshooting_ratingoting_ratingld as needed\n",
    "print(\"Sparse Columns:\", sparse_columns)\n"
   ]
  },
  {
   "cell_type": "markdown",
   "id": "d041fbc6-d2a7-40b1-b5cf-5c00798035bd",
   "metadata": {
    "tags": []
   },
   "source": [
    "Loan date should be sparse as most players do not have a loan"
   ]
  },
  {
   "cell_type": "markdown",
   "id": "8467d197-d33e-4acd-a3f4-803e0686cb51",
   "metadata": {},
   "source": [
    "### 6.4. Find Columns with Low Variance: \n",
    "Identify columns where almost all the values are the same."
   ]
  },
  {
   "cell_type": "code",
   "execution_count": null,
   "id": "cb9aad98-d396-4269-b6dc-4a4437f71b53",
   "metadata": {
    "tags": []
   },
   "outputs": [],
   "source": [
    "# Identify columns with low variance\n",
    "low_variance_cols = [col for col in df.columns if df[col].nunique() <= 1]\n",
    "print(\"Low Variance Columns:\", low_variance_cols)\n"
   ]
  },
  {
   "cell_type": "code",
   "execution_count": null,
   "id": "ef6fa049-713f-4ee2-a67d-31eb1ecc17e0",
   "metadata": {},
   "outputs": [],
   "source": [
    "'''\n",
    "\n",
    "# Combine all insights\n",
    "columns_to_drop = set(url_or_id_cols + sparse_columns.index.tolist() + low_variance_cols)\n",
    "\n",
    "# Review the columns to drop and make a final decision\n",
    "print(\"Recommended Columns to Drop:\", columns_to_drop)\n",
    "\n",
    "'''\n"
   ]
  },
  {
   "cell_type": "code",
   "execution_count": null,
   "id": "cfab9141-6eb8-4193-b2ca-04e27ea2e16d",
   "metadata": {},
   "outputs": [],
   "source": []
  },
  {
   "cell_type": "markdown",
   "id": "b28e169e-ac4d-432a-bde8-da09f511f64b",
   "metadata": {},
   "source": [
    "## 7. Ensuring Consistency"
   ]
  },
  {
   "cell_type": "markdown",
   "id": "a507341b-3adc-4353-980c-af7771795cfb",
   "metadata": {
    "tags": []
   },
   "source": [
    "### 7.1. Check for Duplicate Rows:\n",
    "Duplicate rows can skew the analysis, leading to incorrect conclusions. Identify and remove any duplicates.\n"
   ]
  },
  {
   "cell_type": "markdown",
   "id": "d83b5ebe-7f7c-479c-ade3-af3b1a882325",
   "metadata": {
    "tags": []
   },
   "source": [
    "#### 7.1.1 Full Duplicates"
   ]
  },
  {
   "cell_type": "code",
   "execution_count": null,
   "id": "937b2540-f6dd-42a3-ba6e-a5a943f2d315",
   "metadata": {},
   "outputs": [],
   "source": [
    "# Identify and drop duplicate rows\n",
    "print(\"Number of duplicate rows:\", df.duplicated().sum())\n",
    "df = df.drop_duplicates()\n"
   ]
  },
  {
   "cell_type": "markdown",
   "id": "3df9b820-ba4e-423c-904c-764608eec997",
   "metadata": {
    "tags": []
   },
   "source": [
    "#### 7.1.2 Partial Duplicates"
   ]
  },
  {
   "cell_type": "code",
   "execution_count": null,
   "id": "f897e8ce-72e6-4b5c-ab29-7221ae41db62",
   "metadata": {
    "tags": []
   },
   "outputs": [],
   "source": [
    "# Names not matching ID's\n",
    "print(\"Unique IDs:\", df['id'].nunique())\n",
    "print(\"Total IDs:\", df['id'].count())\n",
    "print(\"Unique longnames:\", df['longname'].nunique())\n",
    "print(\"Total longnames:\", df['longname'].count())\n",
    "\n",
    "# Display duplicates for IDs\n",
    "duplicate_ids = df[df['id'].duplicated(keep=False)]\n",
    "print(\"Duplicate IDs:\", duplicate_ids.head())\n",
    "\n",
    "# Display duplicates for longnames\n",
    "duplicate_longnames = df[df['longname'].duplicated(keep=False)]\n",
    "print(\"Duplicate longnames:\", duplicate_longnames.head())\n"
   ]
  },
  {
   "cell_type": "markdown",
   "id": "c70deef1-7266-4541-a7b8-a714d111f700",
   "metadata": {},
   "source": [
    "Identify Duplicate longname Values:\n",
    "\n",
    "Identify which longname values are duplicated in the dataset and how many unique id values are associated with each."
   ]
  },
  {
   "cell_type": "code",
   "execution_count": null,
   "id": "c496145e-9c1f-4a58-b714-aaf8d6c83ff2",
   "metadata": {
    "tags": []
   },
   "outputs": [],
   "source": [
    "import pandas as pd\n",
    "\n",
    "# Find the count of unique IDs for each longname\n",
    "longname_id_counts = df.groupby('longname')['id'].nunique()\n",
    "duplicate_longnames = longname_id_counts[longname_id_counts > 1]\n",
    "\n",
    "print(\"Duplicate longnames and theinternational_reputation ID counts:\")\n",
    "print(duplicate_longnames)\n"
   ]
  },
  {
   "cell_type": "markdown",
   "id": "7e232bdc-57d8-49ab-adb1-470f8a06c682",
   "metadata": {},
   "source": [
    "Step 2: Investigate Specific Longnames\n",
    "For each longname identified as duplicated, investigate the associated id values to ensure they are correct or to spot potential mismatches."
   ]
  },
  {
   "cell_type": "code",
   "execution_count": null,
   "id": "aa178724-2716-48c2-9d4e-7b696d4479d8",
   "metadata": {
    "tags": []
   },
   "outputs": [],
   "source": [
    "# Investigate a specific longname that has multiple IDs\n",
    "specific_longname = 'Danny Rose'\n",
    "specific_longname_records = df[df['longname'] == specific_longname]\n",
    "print(specific_longname_records)\n"
   ]
  },
  {
   "cell_type": "markdown",
   "id": "99ff42f3-0e5e-43ad-8ea8-09fd917ec818",
   "metadata": {},
   "source": [
    "Since there are no duplicate IDs, and we have multiple records with the same longname but different IDs, it's crucial to maintain these records without introducing inconsistencies."
   ]
  },
  {
   "cell_type": "markdown",
   "id": "6842f08b-788f-46ed-b68b-31f33c1ea73e",
   "metadata": {},
   "source": [
    "### 7.2 Standardize Formats:\n",
    "Ensure that data within each column is consistently formatted, especially for dates, categorical data, and strings.\n"
   ]
  },
  {
   "cell_type": "code",
   "execution_count": null,
   "id": "5d3df6c3-d10f-4f10-9815-ad09d3128d61",
   "metadata": {
    "tags": []
   },
   "outputs": [],
   "source": [
    "df.columns"
   ]
  },
  {
   "cell_type": "markdown",
   "id": "6cc6084e-275c-4b4f-af43-9074a6aec608",
   "metadata": {},
   "source": [
    "#### 7.2.1 Format Height and Weight columns"
   ]
  },
  {
   "cell_type": "code",
   "execution_count": null,
   "id": "52adf6e9-1028-4f9b-8a2c-9d0e940c8f52",
   "metadata": {
    "tags": []
   },
   "outputs": [],
   "source": [
    "# Round height and weight columns to 2 decimal places\n",
    "df['height_in_inches'] = df['height_in_inches'].round(2)\n",
    "df['weight_in_pounds'] = df['weight_in_pounds'].round(2)\n",
    "\n",
    "# Display the finternational_reputationst few rows to verify changes\n",
    "df[['height_in_inches', 'weight_in_pounds']].head()\n"
   ]
  },
  {
   "cell_type": "markdown",
   "id": "83ab981e-01f8-464e-ad3d-7fbf29959ac7",
   "metadata": {},
   "source": [
    "### 7.3 Validate Against Known Ranges:\n",
    "Check numerical values against known ranges (e.g., age should be within a reasonable range). Flag or correct values outside these ranges.\n"
   ]
  },
  {
   "cell_type": "markdown",
   "id": "4c52fa07-4e48-4330-9fbf-adbe1118c612",
   "metadata": {
    "tags": []
   },
   "source": [
    "#### 7.3.1 Confirm reasonable age ranges"
   ]
  },
  {
   "cell_type": "code",
   "execution_count": null,
   "id": "6a673e06-e84c-4bd3-9e97-b4698cf6e4de",
   "metadata": {},
   "outputs": [],
   "source": [
    "# Ensure 'age' is within a reasonable range\n",
    "reasonable_age_range = (0, 100)  # Adjust as necessary\n",
    "\n",
    "age = df[df['age'].between(reasonable_age_range[0], reasonable_age_range[1])]"
   ]
  },
  {
   "cell_type": "markdown",
   "id": "4536079e-4dbc-4077-a22f-81c8ad75a056",
   "metadata": {},
   "source": []
  },
  {
   "cell_type": "code",
   "execution_count": null,
   "id": "af29dfbd-e894-4947-982c-c00087a6385e",
   "metadata": {},
   "outputs": [],
   "source": []
  },
  {
   "cell_type": "code",
   "execution_count": null,
   "id": "3f9ff5d2-fe3f-4c0b-952b-4b30074fa552",
   "metadata": {},
   "outputs": [],
   "source": []
  },
  {
   "cell_type": "markdown",
   "id": "a5b6e3fc-32fe-416d-84e5-dd283baeb2ed",
   "metadata": {},
   "source": [
    "### 7.4 Consistent Categorization:\n",
    "Ensure categorical data is consistently categorized. For instance, the same category shouldn't be spelled in multiple ways."
   ]
  },
  {
   "cell_type": "code",
   "execution_count": null,
   "id": "fd63ed48-94f3-409b-98e2-2ef8052e0235",
   "metadata": {},
   "outputs": [],
   "source": [
    "# Standardize country names (capitalize)\n",
    "\n",
    "df['nationality'] = df['nationality'].str.title()  \n"
   ]
  },
  {
   "cell_type": "code",
   "execution_count": null,
   "id": "e90caf2e-3a97-4b40-ba55-e6b50bf26f9d",
   "metadata": {},
   "outputs": [],
   "source": [
    "df.head()"
   ]
  },
  {
   "cell_type": "code",
   "execution_count": null,
   "id": "e87a412a-a0a3-4521-b5c9-f5de1a5fb65e",
   "metadata": {},
   "outputs": [],
   "source": [
    "# Reconfinternational_reputationm no missing market_market_value_euros_euross\n",
    "df.isna().sum().sort_market_market_value_euros_euross(ascending = False).head(10)"
   ]
  },
  {
   "cell_type": "code",
   "execution_count": null,
   "id": "12ed8e2a-4992-45f2-bacd-0ee672e25e7b",
   "metadata": {},
   "outputs": [],
   "source": []
  },
  {
   "cell_type": "code",
   "execution_count": null,
   "id": "0def4132-5201-4f35-96c5-3cff980c002e",
   "metadata": {},
   "outputs": [],
   "source": [
    "# Review final dataset\n",
    "df.head()"
   ]
  },
  {
   "cell_type": "markdown",
   "id": "65e969dc-8d66-455b-9f78-ac1110269432",
   "metadata": {},
   "source": [
    "## 8. Save the Revised Dataset"
   ]
  },
  {
   "cell_type": "code",
   "execution_count": null,
   "id": "81af18d9-8748-4ea2-b0d3-89bf34bd8fa6",
   "metadata": {},
   "outputs": [],
   "source": [
    "# Save the cleaned file to .csv.\n",
    "df.to_csv('clean_data.csv')"
   ]
  },
  {
   "cell_type": "code",
   "execution_count": null,
   "id": "3b1a74de",
   "metadata": {
    "tags": []
   },
   "outputs": [],
   "source": [
    "\n",
    "import pandas as pd\n",
    "\n",
    "# Load the dataset\n",
    "file_path = '/mnt/data/fifa21 rattacking_work_rate data v2.csv'\n",
    "df = pd.read_csv(file_path)\n",
    "\n",
    "# Standardize column names to snake_case and lowercase\n",
    "df.columns = [col.strip().replace(' ', '_').lower() for col in df.columns]\n",
    "\n",
    "# Apply the provided mapping to rename columns\n",
    "abbreviated_column_mapping = {\n",
    "    'overall_rating': 'overall_rating',\n",
    "    'potentialential': 'potentialentialential',\n",
    "    'best_overall_rating': 'best_overall_rating',\n",
    "    'best_position': 'best_position',\n",
    "    'growth_ova_minus_pot_overall_rating_minus_potential': 'growth_ova_minus_pot_overall_rating_minus_potential_overall_rating_minus_potentialential',\n",
    "    'market_market_value_euros_euros': 'market_market_market_value_euros_euros_euros',\n",
    "    'weekly_weekly_wage_euros_euros': 'weekly_weekly_weekly_wage_euros_euros_euros',\n",
    "    'release_clause_amount_euros_amount_euros': 'release_clause_amount_euros_amount_euros_amount_euros',\n",
    "    'goalkeeper_diving_skill': 'goalkeeper_diving_skill',\n",
    "    'goalkeeper_handling_skill': 'goalkeeper_handling_skill',\n",
    "    'goalkeeper_kicking_skill': 'goalkeeper_kicking_skill',\n",
    "    'goalkeeper_positioning_skill': 'goalkeeper_positioning_skill',\n",
    "    'goalkeeper_reflexes_skill': 'goalkeeper_reflexes_skill',\n",
    "    'weak_foot_rating': 'weak_foot_rating',\n",
    "    'skill_moves_rating': 'skill_moves_rating',\n",
    "    'attacking_work_rate': 'attacking_work_rate',\n",
    "    'defending_ratingending_ratingensive_work_rate': 'defending_ratingending_ratingensive_work_rate',\n",
    "    'international_reputation': 'international_reputation',\n",
    "    'pace_ratinge_rating': 'pace_ratinge_ratinge_rating',\n",
    "    'shooting_ratingoting_rating': 'shooting_ratingoting_ratingoting_rating',\n",
    "    'passing_ratingsing_rating': 'passing_ratingsing_ratingsing_rating',\n",
    "    'dribbling_ratingbbling_rating': 'dribbling_ratingbbling_ratingbbling_rating',\n",
    "    'defending_ratingending_rating': 'defending_ratingending_ratingending_rating',\n",
    "    'physicality_ratingsicality_rating': 'physicality_ratingsicality_ratingsicality_rating',\n",
    "    'sofifa_page_views': 'sofifa_page_views'\n",
    "}\n",
    "\n",
    "df.rename(columns=abbreviated_column_mapping, inplace=True)\n",
    "\n",
    "# Save the cleaned dataset\n",
    "df.to_csv('/mnt/data/clean_data_final_renamed.csv', index=False)\n"
   ]
  }
 ],
 "metadata": {
  "kernelspec": {
   "display_name": "Python 3 (ipykernel)",
   "language": "python",
   "name": "python3"
  },
  "language_info": {
   "codemirror_mode": {
    "name": "ipython",
    "version": 3
   },
   "file_extension": ".py",
   "mimetype": "text/x-python",
   "name": "python",
   "nbconvert_exporter": "python",
   "pygments_lexer": "ipython3",
   "version": "3.11.5"
  }
 },
 "nbformat": 4,
 "nbformat_minor": 5
}
